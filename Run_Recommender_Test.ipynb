{
 "cells": [
  {
   "cell_type": "code",
   "execution_count": 42,
   "metadata": {},
   "outputs": [],
   "source": [
    "\n",
    "import pandas as pd\n",
    "import numpy as np\n",
    "import polyline\n",
    "import gpxpy\n",
    "import folium\n",
    "import ast\n",
    "from collections import defaultdict, Counter\n",
    "from math import radians, cos, sin, asin, sqrt\n",
    "from sklearn.metrics.pairwise import cosine_similarity\n",
    "from sklearn.preprocessing import scale\n",
    "from scipy.cluster import  hierarchy\n",
    "from math import radians, cos, sin, asin, sqrt"
   ]
  },
  {
   "cell_type": "code",
   "execution_count": 2,
   "metadata": {},
   "outputs": [],
   "source": [
    "df = pd.read_csv('run_data_11-27-2018.csv')"
   ]
  },
  {
   "cell_type": "code",
   "execution_count": 3,
   "metadata": {},
   "outputs": [],
   "source": [
    "df = df.iloc[:,1::]"
   ]
  },
  {
   "cell_type": "code",
   "execution_count": 43,
   "metadata": {},
   "outputs": [
    {
     "data": {
      "text/plain": [
       "19731"
      ]
     },
     "execution_count": 43,
     "metadata": {},
     "output_type": "execute_result"
    }
   ],
   "source": [
    "len(df)"
   ]
  },
  {
   "cell_type": "code",
   "execution_count": 5,
   "metadata": {},
   "outputs": [],
   "source": [
    "def haversine(lat1, lon1, lat2, lon2):\n",
    "    \"\"\"\n",
    "    Calculate the great circle distance between two points \n",
    "    on the earth (specified in decimal degrees)\n",
    "    paraphrased from \n",
    "    https://stackoverflow.com/questions/4913349/haversine-formula-in-python-bearing-and-distance-between-two-gps-points\n",
    "    \"\"\"\n",
    "    # convert decimal degrees to radians \n",
    "    lon1, lat1, lon2, lat2 = map(radians, [lon1, lat1, lon2, lat2])\n",
    "\n",
    "    # haversine formula \n",
    "    dlon = lon2 - lon1 \n",
    "    dlat = lat2 - lat1 \n",
    "    a = sin(dlat/2)**2 + cos(lat1) * cos(lat2) * sin(dlon/2)**2\n",
    "    c = 2 * asin(sqrt(a)) \n",
    "    r = 6371 # Radius of earth in kilometers. Use 3956 for miles\n",
    "    return c * r"
   ]
  },
  {
   "cell_type": "code",
   "execution_count": 6,
   "metadata": {},
   "outputs": [],
   "source": [
    "def find_distances(coordinate1, coordinate2):\n",
    "    lat1, lon1 = coordinate1\n",
    "    lat2, lon2 = coordinate2\n",
    "    distance = haversine(lat1, lon1, lat2, lon2)\n",
    "    return distance\n"
   ]
  },
  {
   "cell_type": "code",
   "execution_count": 7,
   "metadata": {},
   "outputs": [],
   "source": [
    "def make_floats(tup):\n",
    "    x, y = tup\n",
    "    return (float(x), float(y))"
   ]
  },
  {
   "cell_type": "code",
   "execution_count": 8,
   "metadata": {},
   "outputs": [],
   "source": [
    "def get_distances(df, start):\n",
    "    '''Takes in a dataframe of activities and returns a dataframe with start and end latlng as tuples with floats.\n",
    "    Also returns the distance away from a starting point input.'''\n",
    "   \n",
    "    df_starts = df[(~df['start_latlng'].isna()) & (~df['end_latlng'].isna())].copy()\n",
    "    df_starts['start_latlng'] = df_starts['start_latlng'].apply(lambda x: x.split(\",\"))\n",
    "    df_starts['start_latlng'] = df_starts['start_latlng'].apply(lambda x: tuple(x))\n",
    "    df_starts['start_latlng'] = df_starts['start_latlng'].apply(lambda x: make_floats(x))\n",
    "    df_starts['end_latlng'] = df_starts['end_latlng'].apply(lambda x: x.split(\",\"))\n",
    "    df_starts['end_latlng'] = df_starts['end_latlng'].apply(lambda x: tuple(x))\n",
    "    df_starts['end_latlng'] = df_starts['end_latlng'].apply(lambda x: make_floats(x))\n",
    "    df_starts['distance_away'] = df_starts['start_latlng'].apply(lambda x: find_distances(start, x))\n",
    "    return df_starts\n",
    "    "
   ]
  },
  {
   "cell_type": "markdown",
   "metadata": {},
   "source": [
    "### Start Here With Your Location"
   ]
  },
  {
   "cell_type": "code",
   "execution_count": 9,
   "metadata": {},
   "outputs": [],
   "source": [
    "start = (47.529832, -121.987695)"
   ]
  },
  {
   "cell_type": "code",
   "execution_count": 10,
   "metadata": {},
   "outputs": [],
   "source": [
    "df_starts = get_distances(df, start)"
   ]
  },
  {
   "cell_type": "code",
   "execution_count": 11,
   "metadata": {},
   "outputs": [
    {
     "data": {
      "text/html": [
       "<div>\n",
       "<style scoped>\n",
       "    .dataframe tbody tr th:only-of-type {\n",
       "        vertical-align: middle;\n",
       "    }\n",
       "\n",
       "    .dataframe tbody tr th {\n",
       "        vertical-align: top;\n",
       "    }\n",
       "\n",
       "    .dataframe thead th {\n",
       "        text-align: right;\n",
       "    }\n",
       "</style>\n",
       "<table border=\"1\" class=\"dataframe\">\n",
       "  <thead>\n",
       "    <tr style=\"text-align: right;\">\n",
       "      <th></th>\n",
       "      <th>upload_id</th>\n",
       "      <th>average_speed</th>\n",
       "      <th>distance</th>\n",
       "      <th>elapsed_time</th>\n",
       "      <th>total_elevation_gain</th>\n",
       "      <th>type</th>\n",
       "      <th>start_date_local</th>\n",
       "      <th>start_latlng</th>\n",
       "      <th>end_latlng</th>\n",
       "      <th>map</th>\n",
       "      <th>miles_converted</th>\n",
       "      <th>distance_away</th>\n",
       "    </tr>\n",
       "  </thead>\n",
       "  <tbody>\n",
       "    <tr>\n",
       "      <th>0</th>\n",
       "      <td>1.919166e+09</td>\n",
       "      <td>3.238</td>\n",
       "      <td>4429.7</td>\n",
       "      <td>0:37:28</td>\n",
       "      <td>31.0</td>\n",
       "      <td>Run</td>\n",
       "      <td>2018-08-21T12:21:27</td>\n",
       "      <td>(47.61, -122.35)</td>\n",
       "      <td>(47.6, -122.33)</td>\n",
       "      <td>{'id': 'a1788404266', 'polyline': None, 'summa...</td>\n",
       "      <td>2.752488</td>\n",
       "      <td>28.605295</td>\n",
       "    </tr>\n",
       "  </tbody>\n",
       "</table>\n",
       "</div>"
      ],
      "text/plain": [
       "      upload_id  average_speed  distance elapsed_time  total_elevation_gain  \\\n",
       "0  1.919166e+09          3.238    4429.7      0:37:28                  31.0   \n",
       "\n",
       "  type     start_date_local      start_latlng       end_latlng  \\\n",
       "0  Run  2018-08-21T12:21:27  (47.61, -122.35)  (47.6, -122.33)   \n",
       "\n",
       "                                                 map  miles_converted  \\\n",
       "0  {'id': 'a1788404266', 'polyline': None, 'summa...         2.752488   \n",
       "\n",
       "   distance_away  \n",
       "0      28.605295  "
      ]
     },
     "execution_count": 11,
     "metadata": {},
     "output_type": "execute_result"
    }
   ],
   "source": [
    "df_starts.head(1)"
   ]
  },
  {
   "cell_type": "code",
   "execution_count": 12,
   "metadata": {},
   "outputs": [],
   "source": [
    "working_df = df_starts[df_starts['distance_away']<= 3]"
   ]
  },
  {
   "cell_type": "code",
   "execution_count": 13,
   "metadata": {},
   "outputs": [],
   "source": [
    "def standardize_inputs(user_input, df):\n",
    "    '''Standardize the user inputs for cosine similarity'''\n",
    "    elevation = user_input[0]\n",
    "    distance = user_input[1]\n",
    "    std_elevation = (elevation - df['total_elevation_gain'].mean())/df['total_elevation_gain'].std()\n",
    "    std_distance = (distance - df['miles_converted'].mean())/df['miles_converted'].std()\n",
    "    return np.array([std_elevation,std_distance])"
   ]
  },
  {
   "cell_type": "code",
   "execution_count": 14,
   "metadata": {},
   "outputs": [],
   "source": [
    "def recommend_runs(request, df, columns_to_check):\n",
    "    '''Inputs are a list of user-specified elevation gain in meters and miles to run, \n",
    "    dataframe of activities, and the columns of the dataframe to check \n",
    "    for cosine similarity. Columns to check should be in standardized form.  \n",
    "    Output is a dictionary of polyline maps for route recommendations.'''\n",
    "    \n",
    "    #requires sklearn.cosine_similarity\n",
    "    df = df.copy()\n",
    "    df['elevation_std'] = scale(df['total_elevation_gain'])\n",
    "    df['miles_std'] = scale(df['miles_converted'])\n",
    "    similarity_df = df.loc[:, columns_to_check]\n",
    "    user_input = standardize_inputs(request, df)\n",
    "    user_input = user_input.reshape(1,len(columns_to_check))\n",
    "    user_input_reshaped = user_input.reshape(1,-1)\n",
    "    similarities = cosine_similarity(similarity_df, user_input_reshaped)\n",
    "    sort_indices = np.argsort(similarities, axis = None)\n",
    "    top_20 = sort_indices[-20:]\n",
    "    recommend_indices = list(top_20[::-1]) #reverse the order\n",
    "    recommendations = df.iloc[recommend_indices, :]\n",
    "    return dict(recommendations['map']), recommend_indices"
   ]
  },
  {
   "cell_type": "code",
   "execution_count": null,
   "metadata": {},
   "outputs": [],
   "source": []
  },
  {
   "cell_type": "markdown",
   "metadata": {},
   "source": [
    "### Get a dataframe of Recommendations Here"
   ]
  },
  {
   "cell_type": "code",
   "execution_count": 15,
   "metadata": {},
   "outputs": [],
   "source": [
    "recommend_dict, recommend_indices = recommend_runs([100, 5], working_df , ['elevation_std', 'miles_std'])"
   ]
  },
  {
   "cell_type": "code",
   "execution_count": 16,
   "metadata": {},
   "outputs": [],
   "source": [
    "def make_polyline_lst(recommend_dict):\n",
    "    '''Take in a dictionary of map objects and return dictionary of polylines{index:polyline} and the indices\n",
    "    for the polylines as a list.'''\n",
    "    polylines = {}\n",
    "    for k, v in recommend_dict.items():\n",
    "        v = ast.literal_eval(v)\n",
    "        if v['summary_polyline'] != None: #make sure the polyline list isn't empty\n",
    "            polylines[k] = v['summary_polyline']\n",
    "    indices = list(polylines.keys())\n",
    "    return polylines, indices"
   ]
  },
  {
   "cell_type": "code",
   "execution_count": 18,
   "metadata": {},
   "outputs": [],
   "source": [
    "polylines,indices = make_polyline_lst(recommend_dict)"
   ]
  },
  {
   "cell_type": "code",
   "execution_count": 21,
   "metadata": {},
   "outputs": [
    {
     "data": {
      "text/plain": [
       "[91,\n",
       " 1393,\n",
       " 623,\n",
       " 1437,\n",
       " 263,\n",
       " 12363,\n",
       " 1478,\n",
       " 1358,\n",
       " 12301,\n",
       " 12420,\n",
       " 12296,\n",
       " 7,\n",
       " 1452,\n",
       " 120,\n",
       " 12288,\n",
       " 1370,\n",
       " 1207,\n",
       " 10440,\n",
       " 6286,\n",
       " 1375]"
      ]
     },
     "execution_count": 21,
     "metadata": {},
     "output_type": "execute_result"
    }
   ],
   "source": [
    "indices  #use these to later go back into dataframe for run stats"
   ]
  },
  {
   "cell_type": "code",
   "execution_count": 23,
   "metadata": {},
   "outputs": [],
   "source": [
    "#get coordinates for the polylines in the list\n",
    "map_coordinates = []\n",
    "for line in list(polylines.values()):\n",
    "    coordinates = polyline.decode(line)\n",
    "    map_coordinates.append(coordinates)"
   ]
  },
  {
   "cell_type": "code",
   "execution_count": 24,
   "metadata": {},
   "outputs": [],
   "source": [
    "def find_centroids(coordinate_lst):\n",
    "    centroids = []\n",
    "    for l in coordinate_lst:\n",
    "        lats = []\n",
    "        longs = []\n",
    "        for point in l:\n",
    "            lats.append(point[0])\n",
    "            longs.append(point[1])\n",
    "        centroid = (round(np.mean(lats), 3), round(np.mean(longs), 3))\n",
    "        centroids.append(centroid)\n",
    "    return centroids"
   ]
  },
  {
   "cell_type": "code",
   "execution_count": 25,
   "metadata": {},
   "outputs": [],
   "source": [
    "def make_comparison_df(coordinate_lst, df, indices):\n",
    "    centroids = find_centroids(coordinate_lst)\n",
    "    lats = []\n",
    "    longs = []\n",
    "    elevation_lst = []\n",
    "    for c in centroids:\n",
    "        lats.append(c[0])\n",
    "        longs.append(c[1])\n",
    "    for idx in indices: #get the elevation for the runs in the suggestion list.\n",
    "        row = df.loc[idx] \n",
    "        elevation_lst.append(row['total_elevation_gain'])\n",
    "    comparison_df = pd.DataFrame({'lats': lats, 'longs':longs, 'elevation':elevation_lst})\n",
    "    return comparison_df"
   ]
  },
  {
   "cell_type": "code",
   "execution_count": 26,
   "metadata": {},
   "outputs": [],
   "source": [
    "comparison_df = make_comparison_df(map_coordinates, working_df, indices)"
   ]
  },
  {
   "cell_type": "code",
   "execution_count": 27,
   "metadata": {},
   "outputs": [],
   "source": [
    "comparison_array = comparison_df.values\n",
    "comparison_array_std = (comparison_array - np.mean(comparison_array, axis=0)) / np.std(comparison_array, axis=0)\n",
    "#make comparisons with all the datapoints in the comparison array\n",
    "cosine_sim_arr = cosine_similarity(comparison_array_std)"
   ]
  },
  {
   "cell_type": "code",
   "execution_count": 28,
   "metadata": {},
   "outputs": [],
   "source": [
    "threshold = 0.1\n",
    "Z = hierarchy.linkage(cosine_sim_arr, 'average', metric=\"cosine\")\n",
    "C = hierarchy.fcluster(Z, threshold, criterion=\"distance\")\n",
    "ids = list(range(20)) #make a list of numbers 0-19 to use as indices for a cluster groups dictionary"
   ]
  },
  {
   "cell_type": "code",
   "execution_count": 29,
   "metadata": {},
   "outputs": [],
   "source": [
    "cluster_groups = defaultdict(list)\n",
    "for idx, grouping in enumerate(C):\n",
    "    cluster_groups[grouping].append(idx)"
   ]
  },
  {
   "cell_type": "code",
   "execution_count": 30,
   "metadata": {},
   "outputs": [],
   "source": [
    "indices_to_use = []\n",
    "for value in cluster_groups.values():\n",
    "    indices_to_use.append(value[0])"
   ]
  },
  {
   "cell_type": "code",
   "execution_count": 31,
   "metadata": {},
   "outputs": [],
   "source": [
    "def get_indices(groups):\n",
    "    sort_groups = sorted(groups, key=len)\n",
    "    sort_groups = sort_groups[::-1]\n",
    "    indices_to_use = []\n",
    "    for group in sort_groups:\n",
    "        group = list(group)\n",
    "        indices_to_use.append(group[0])\n",
    "    return indices_to_use"
   ]
  },
  {
   "cell_type": "code",
   "execution_count": 32,
   "metadata": {},
   "outputs": [
    {
     "data": {
      "text/plain": [
       "[0, 2, 3, 4, 5, 15, 18, 19]"
      ]
     },
     "execution_count": 32,
     "metadata": {},
     "output_type": "execute_result"
    }
   ],
   "source": [
    "indices_to_use"
   ]
  },
  {
   "cell_type": "code",
   "execution_count": 33,
   "metadata": {},
   "outputs": [],
   "source": [
    "def map_indices(indices_to_use, indices):\n",
    "    '''Takes in indices_to_use from 20 suggested routes and the actual indices of the 20 routes in the larger\n",
    "    dataframe and returns a mapping of indices_to_use back to the index in the larger dataframe. \n",
    "    Use: to retrieve stats for suggested routes'''\n",
    "    mapping = {}\n",
    "    for idx, i in enumerate(indices):\n",
    "        if idx in indices_to_use:\n",
    "            mapping[idx] = i\n",
    "    return mapping\n",
    "        "
   ]
  },
  {
   "cell_type": "code",
   "execution_count": 34,
   "metadata": {},
   "outputs": [
    {
     "data": {
      "text/plain": [
       "{0: 91, 2: 623, 3: 1437, 4: 263, 5: 12363, 15: 1370, 18: 6286, 19: 1375}"
      ]
     },
     "execution_count": 34,
     "metadata": {},
     "output_type": "execute_result"
    }
   ],
   "source": [
    "mapping_dict = map_indices(indices_to_use, indices)\n",
    "mapping_dict"
   ]
  },
  {
   "cell_type": "code",
   "execution_count": 35,
   "metadata": {},
   "outputs": [],
   "source": [
    "unique_coordinates = [map_coordinates[i] for i in indices_to_use]"
   ]
  },
  {
   "cell_type": "code",
   "execution_count": 36,
   "metadata": {},
   "outputs": [],
   "source": [
    "lat, long = map_coordinates[0][0]\n",
    "m = folium.Map(location=[lat, long], zoom_start=12.2)"
   ]
  },
  {
   "cell_type": "code",
   "execution_count": 37,
   "metadata": {},
   "outputs": [],
   "source": [
    "for idx, route in enumerate(unique_coordinates[0:5]):\n",
    "    colors = ['blue','green','red','orange','purple']\n",
    "    folium.PolyLine(\n",
    "            route,\n",
    "            weight=2,\n",
    "            color=colors[idx]\n",
    "        ).add_to(m)"
   ]
  },
  {
   "cell_type": "code",
   "execution_count": 38,
   "metadata": {},
   "outputs": [],
   "source": [
    "from html import parser\n"
   ]
  },
  {
   "cell_type": "code",
   "execution_count": 39,
   "metadata": {},
   "outputs": [],
   "source": [
    "parser = parser.HTMLParser()"
   ]
  },
  {
   "cell_type": "code",
   "execution_count": 40,
   "metadata": {},
   "outputs": [
    {
     "data": {
      "text/plain": [
       "<branca.element.Element at 0x1a24dbb550>"
      ]
     },
     "execution_count": 40,
     "metadata": {},
     "output_type": "execute_result"
    }
   ],
   "source": [
    "legend_html = parser.feed(\n",
    "     '''<div style= ”position: fixed; \n",
    "     bottom: 50px; left: 50px; width: 100px; height: 90px; \n",
    "     border:2px solid grey; z-index:9999; font-size:14px;\n",
    "     “>&nbsp; Routes <br>\n",
    "     &nbsp; Route_1 &nbsp; <i class=”fa fa-map-marker fa-2x”\n",
    "                  style=”color:blue”></i><br>\n",
    "     &nbsp; Route_2 &nbsp; <i class=”fa fa-map-marker fa-2x”\n",
    "                  style=”color:green”></i>\n",
    "     &nbsp; Route_3 &nbsp; <i class=”fa fa-map-marker fa-2x”\n",
    "                  style=”color:red”></i><br>\n",
    "     &nbsp; Route_4 &nbsp; <i class=”fa fa-map-marker fa-2x”\n",
    "                  style=”color:orange”></i>\n",
    "     &nbsp; Route_4 &nbsp; <i class=”fa fa-map-marker fa-2x”\n",
    "                  style=”color:purple”></i>\n",
    "    </div>''')\n",
    "    \n",
    "m.get_root().html.add_child(folium.Element(legend_html))"
   ]
  },
  {
   "cell_type": "code",
   "execution_count": 41,
   "metadata": {},
   "outputs": [
    {
     "data": {
      "text/html": [
       "<div style=\"width:100%;\"><div style=\"position:relative;width:100%;height:0;padding-bottom:60%;\"><iframe src=\"data:text/html;charset=utf-8;base64,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\" style=\"position:absolute;width:100%;height:100%;left:0;top:0;border:none !important;\" allowfullscreen webkitallowfullscreen mozallowfullscreen></iframe></div></div>"
      ],
      "text/plain": [
       "<folium.folium.Map at 0x1a24dbb5f8>"
      ]
     },
     "execution_count": 41,
     "metadata": {},
     "output_type": "execute_result"
    }
   ],
   "source": [
    "m.get_root().html.add_child(folium.Element(legend_html))\n",
    "m"
   ]
  },
  {
   "cell_type": "code",
   "execution_count": null,
   "metadata": {},
   "outputs": [],
   "source": []
  },
  {
   "cell_type": "code",
   "execution_count": null,
   "metadata": {},
   "outputs": [],
   "source": []
  }
 ],
 "metadata": {
  "kernelspec": {
   "display_name": "Python 3",
   "language": "python",
   "name": "python3"
  },
  "language_info": {
   "codemirror_mode": {
    "name": "ipython",
    "version": 3
   },
   "file_extension": ".py",
   "mimetype": "text/x-python",
   "name": "python",
   "nbconvert_exporter": "python",
   "pygments_lexer": "ipython3",
   "version": "3.6.6"
  }
 },
 "nbformat": 4,
 "nbformat_minor": 2
}
