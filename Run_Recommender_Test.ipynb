{
 "cells": [
  {
   "cell_type": "code",
   "execution_count": 1,
   "metadata": {},
   "outputs": [],
   "source": [
    "\n",
    "import pandas as pd\n",
    "import numpy as np\n",
    "import polyline\n",
    "import gpxpy\n",
    "import folium\n",
    "import ast\n",
    "from collections import defaultdict, Counter\n",
    "from math import radians, cos, sin, asin, sqrt\n",
    "from sklearn.metrics.pairwise import cosine_similarity\n",
    "from sklearn.preprocessing import scale\n",
    "from scipy.cluster import  hierarchy\n",
    "from math import radians, cos, sin, asin, sqrt"
   ]
  },
  {
   "cell_type": "code",
   "execution_count": 2,
   "metadata": {},
   "outputs": [],
   "source": [
    "df = pd.read_csv('run_data_11-27-2018.csv')"
   ]
  },
  {
   "cell_type": "code",
   "execution_count": 3,
   "metadata": {},
   "outputs": [],
   "source": [
    "df = df.iloc[:,1::]"
   ]
  },
  {
   "cell_type": "code",
   "execution_count": 4,
   "metadata": {},
   "outputs": [
    {
     "data": {
      "text/plain": [
       "19731"
      ]
     },
     "execution_count": 4,
     "metadata": {},
     "output_type": "execute_result"
    }
   ],
   "source": [
    "len(df)"
   ]
  },
  {
   "cell_type": "code",
   "execution_count": 5,
   "metadata": {},
   "outputs": [],
   "source": [
    "def haversine(lat1, lon1, lat2, lon2):\n",
    "    \"\"\"\n",
    "    Calculate the great circle distance between two points \n",
    "    on the earth (specified in decimal degrees)\n",
    "    paraphrased from \n",
    "    https://stackoverflow.com/questions/4913349/haversine-formula-in-python-bearing-and-distance-between-two-gps-points\n",
    "    \"\"\"\n",
    "    # convert decimal degrees to radians \n",
    "    lon1, lat1, lon2, lat2 = map(radians, [lon1, lat1, lon2, lat2])\n",
    "\n",
    "    # haversine formula \n",
    "    dlon = lon2 - lon1 \n",
    "    dlat = lat2 - lat1 \n",
    "    a = sin(dlat/2)**2 + cos(lat1) * cos(lat2) * sin(dlon/2)**2\n",
    "    c = 2 * asin(sqrt(a)) \n",
    "    r = 6371 # Radius of earth in kilometers. Use 3956 for miles\n",
    "    return c * r"
   ]
  },
  {
   "cell_type": "code",
   "execution_count": 6,
   "metadata": {},
   "outputs": [],
   "source": [
    "def find_distances(coordinate1, coordinate2):\n",
    "    lat1, lon1 = coordinate1\n",
    "    lat2, lon2 = coordinate2\n",
    "    distance = haversine(lat1, lon1, lat2, lon2)\n",
    "    return distance\n"
   ]
  },
  {
   "cell_type": "code",
   "execution_count": 7,
   "metadata": {},
   "outputs": [],
   "source": [
    "def make_floats(tup):\n",
    "    x, y = tup\n",
    "    return (float(x), float(y))"
   ]
  },
  {
   "cell_type": "code",
   "execution_count": 8,
   "metadata": {},
   "outputs": [],
   "source": [
    "def get_distances(df, start):\n",
    "    '''Takes in a dataframe of activities and returns a dataframe with start and end latlng as tuples with floats.\n",
    "    Also returns the distance away from a starting point input.'''\n",
    "   \n",
    "    df_starts = df[(~df['start_latlng'].isna()) & (~df['end_latlng'].isna())].copy()\n",
    "    df_starts['start_latlng'] = df_starts['start_latlng'].apply(lambda x: x.split(\",\"))\n",
    "    df_starts['start_latlng'] = df_starts['start_latlng'].apply(lambda x: tuple(x))\n",
    "    df_starts['start_latlng'] = df_starts['start_latlng'].apply(lambda x: make_floats(x))\n",
    "    df_starts['end_latlng'] = df_starts['end_latlng'].apply(lambda x: x.split(\",\"))\n",
    "    df_starts['end_latlng'] = df_starts['end_latlng'].apply(lambda x: tuple(x))\n",
    "    df_starts['end_latlng'] = df_starts['end_latlng'].apply(lambda x: make_floats(x))\n",
    "    df_starts['distance_away'] = df_starts['start_latlng'].apply(lambda x: find_distances(start, x))\n",
    "    return df_starts\n",
    "    "
   ]
  },
  {
   "cell_type": "markdown",
   "metadata": {},
   "source": [
    "### Start Here With Your Location"
   ]
  },
  {
   "cell_type": "code",
   "execution_count": 9,
   "metadata": {},
   "outputs": [],
   "source": [
    "start = (47.529832, -121.987695)"
   ]
  },
  {
   "cell_type": "code",
   "execution_count": 10,
   "metadata": {},
   "outputs": [],
   "source": [
    "df_starts = get_distances(df, start)"
   ]
  },
  {
   "cell_type": "code",
   "execution_count": 11,
   "metadata": {},
   "outputs": [
    {
     "data": {
      "text/html": [
       "<div>\n",
       "<style scoped>\n",
       "    .dataframe tbody tr th:only-of-type {\n",
       "        vertical-align: middle;\n",
       "    }\n",
       "\n",
       "    .dataframe tbody tr th {\n",
       "        vertical-align: top;\n",
       "    }\n",
       "\n",
       "    .dataframe thead th {\n",
       "        text-align: right;\n",
       "    }\n",
       "</style>\n",
       "<table border=\"1\" class=\"dataframe\">\n",
       "  <thead>\n",
       "    <tr style=\"text-align: right;\">\n",
       "      <th></th>\n",
       "      <th>upload_id</th>\n",
       "      <th>average_speed</th>\n",
       "      <th>distance</th>\n",
       "      <th>elapsed_time</th>\n",
       "      <th>total_elevation_gain</th>\n",
       "      <th>type</th>\n",
       "      <th>start_date_local</th>\n",
       "      <th>start_latlng</th>\n",
       "      <th>end_latlng</th>\n",
       "      <th>map</th>\n",
       "      <th>miles_converted</th>\n",
       "      <th>distance_away</th>\n",
       "    </tr>\n",
       "  </thead>\n",
       "  <tbody>\n",
       "    <tr>\n",
       "      <th>0</th>\n",
       "      <td>1.919166e+09</td>\n",
       "      <td>3.238</td>\n",
       "      <td>4429.7</td>\n",
       "      <td>0:37:28</td>\n",
       "      <td>31.0</td>\n",
       "      <td>Run</td>\n",
       "      <td>2018-08-21T12:21:27</td>\n",
       "      <td>(47.61, -122.35)</td>\n",
       "      <td>(47.6, -122.33)</td>\n",
       "      <td>{'id': 'a1788404266', 'polyline': None, 'summa...</td>\n",
       "      <td>2.752488</td>\n",
       "      <td>28.605295</td>\n",
       "    </tr>\n",
       "  </tbody>\n",
       "</table>\n",
       "</div>"
      ],
      "text/plain": [
       "      upload_id  average_speed  distance elapsed_time  total_elevation_gain  \\\n",
       "0  1.919166e+09          3.238    4429.7      0:37:28                  31.0   \n",
       "\n",
       "  type     start_date_local      start_latlng       end_latlng  \\\n",
       "0  Run  2018-08-21T12:21:27  (47.61, -122.35)  (47.6, -122.33)   \n",
       "\n",
       "                                                 map  miles_converted  \\\n",
       "0  {'id': 'a1788404266', 'polyline': None, 'summa...         2.752488   \n",
       "\n",
       "   distance_away  \n",
       "0      28.605295  "
      ]
     },
     "execution_count": 11,
     "metadata": {},
     "output_type": "execute_result"
    }
   ],
   "source": [
    "df_starts.head(1)"
   ]
  },
  {
   "cell_type": "code",
   "execution_count": 12,
   "metadata": {},
   "outputs": [],
   "source": [
    "working_df = df_starts[df_starts['distance_away']<= 3]"
   ]
  },
  {
   "cell_type": "code",
   "execution_count": 13,
   "metadata": {},
   "outputs": [],
   "source": [
    "def standardize_inputs(user_input, df):\n",
    "    '''Standardize the user inputs for cosine similarity'''\n",
    "    elevation = user_input[0]\n",
    "    distance = user_input[1]\n",
    "    std_elevation = (elevation - df['total_elevation_gain'].mean())/df['total_elevation_gain'].std()\n",
    "    std_distance = (distance - df['miles_converted'].mean())/df['miles_converted'].std()\n",
    "    return np.array([std_elevation,std_distance])"
   ]
  },
  {
   "cell_type": "code",
   "execution_count": 42,
   "metadata": {},
   "outputs": [],
   "source": [
    "def recommend_runs(request, df, columns_to_check):\n",
    "    '''Inputs are a list of user-specified elevation gain in meters and miles to run, \n",
    "    dataframe of activities, and the columns of the dataframe to check \n",
    "    for cosine similarity. Columns to check should be in standardized form.  \n",
    "    Output is a dictionary of polyline maps for route recommendations.'''\n",
    "    df = df.copy()\n",
    "    #requires sklearn.cosine_similarity\n",
    "    df.loc[:, 'elevation_std'] = scale(df['total_elevation_gain'].values.reshape(-1, 1))\n",
    "    df.loc[:, 'miles_std'] = scale(df['miles_converted'].values.reshape(-1, 1))\n",
    "    similarity_df = df.loc[:, columns_to_check]\n",
    "    user_input = standardize_inputs(request, df)\n",
    "    user_input = user_input.reshape(1,len(columns_to_check))\n",
    "    user_input_reshaped = user_input.reshape(1,-1)\n",
    "    similarities = cosine_similarity(similarity_df, user_input_reshaped)\n",
    "    sort_indices = np.argsort(similarities, axis = None)\n",
    "    top_20 = sort_indices[-20:]\n",
    "    recommend_indices = list(top_20[::-1]) #reverse the order\n",
    "    recommendations = df.iloc[recommend_indices, :]\n",
    "    return dict(recommendations['map']), recommend_indices"
   ]
  },
  {
   "cell_type": "code",
   "execution_count": 43,
   "metadata": {},
   "outputs": [
    {
     "data": {
      "text/html": [
       "<div>\n",
       "<style scoped>\n",
       "    .dataframe tbody tr th:only-of-type {\n",
       "        vertical-align: middle;\n",
       "    }\n",
       "\n",
       "    .dataframe tbody tr th {\n",
       "        vertical-align: top;\n",
       "    }\n",
       "\n",
       "    .dataframe thead th {\n",
       "        text-align: right;\n",
       "    }\n",
       "</style>\n",
       "<table border=\"1\" class=\"dataframe\">\n",
       "  <thead>\n",
       "    <tr style=\"text-align: right;\">\n",
       "      <th></th>\n",
       "      <th>upload_id</th>\n",
       "      <th>average_speed</th>\n",
       "      <th>distance</th>\n",
       "      <th>elapsed_time</th>\n",
       "      <th>total_elevation_gain</th>\n",
       "      <th>type</th>\n",
       "      <th>start_date_local</th>\n",
       "      <th>start_latlng</th>\n",
       "      <th>end_latlng</th>\n",
       "      <th>map</th>\n",
       "      <th>miles_converted</th>\n",
       "      <th>distance_away</th>\n",
       "    </tr>\n",
       "  </thead>\n",
       "  <tbody>\n",
       "    <tr>\n",
       "      <th>7</th>\n",
       "      <td>2.125245e+09</td>\n",
       "      <td>2.475</td>\n",
       "      <td>9526.0</td>\n",
       "      <td>1:07:40</td>\n",
       "      <td>349.0</td>\n",
       "      <td>Run</td>\n",
       "      <td>2018-11-27T06:39:11</td>\n",
       "      <td>(47.53, -122.0)</td>\n",
       "      <td>(47.53, -122.0)</td>\n",
       "      <td>{'id': 'a1987829499', 'polyline': None, 'summa...</td>\n",
       "      <td>5.919182</td>\n",
       "      <td>0.924041</td>\n",
       "    </tr>\n",
       "    <tr>\n",
       "      <th>40</th>\n",
       "      <td>2.058270e+09</td>\n",
       "      <td>2.270</td>\n",
       "      <td>8053.0</td>\n",
       "      <td>1:02:44</td>\n",
       "      <td>397.0</td>\n",
       "      <td>Run</td>\n",
       "      <td>2018-10-23T06:38:20</td>\n",
       "      <td>(47.53, -122.0)</td>\n",
       "      <td>(47.53, -122.0)</td>\n",
       "      <td>{'id': 'a1923022506', 'polyline': None, 'summa...</td>\n",
       "      <td>5.003902</td>\n",
       "      <td>0.924041</td>\n",
       "    </tr>\n",
       "    <tr>\n",
       "      <th>46</th>\n",
       "      <td>2.044265e+09</td>\n",
       "      <td>2.638</td>\n",
       "      <td>8292.0</td>\n",
       "      <td>0:56:12</td>\n",
       "      <td>330.0</td>\n",
       "      <td>Run</td>\n",
       "      <td>2018-10-16T06:36:04</td>\n",
       "      <td>(47.53, -122.0)</td>\n",
       "      <td>(47.53, -122.0)</td>\n",
       "      <td>{'id': 'a1909511405', 'polyline': None, 'summa...</td>\n",
       "      <td>5.152410</td>\n",
       "      <td>0.924041</td>\n",
       "    </tr>\n",
       "    <tr>\n",
       "      <th>68</th>\n",
       "      <td>1.999151e+09</td>\n",
       "      <td>2.596</td>\n",
       "      <td>8150.5</td>\n",
       "      <td>0:53:50</td>\n",
       "      <td>304.0</td>\n",
       "      <td>Run</td>\n",
       "      <td>2018-09-25T06:38:01</td>\n",
       "      <td>(47.53, -122.0)</td>\n",
       "      <td>(47.53, -122.0)</td>\n",
       "      <td>{'id': 'a1865991014', 'polyline': None, 'summa...</td>\n",
       "      <td>5.064486</td>\n",
       "      <td>0.924041</td>\n",
       "    </tr>\n",
       "    <tr>\n",
       "      <th>85</th>\n",
       "      <td>1.967110e+09</td>\n",
       "      <td>2.543</td>\n",
       "      <td>8614.0</td>\n",
       "      <td>0:58:09</td>\n",
       "      <td>347.0</td>\n",
       "      <td>Run</td>\n",
       "      <td>2018-09-11T06:37:54</td>\n",
       "      <td>(47.53, -122.0)</td>\n",
       "      <td>(47.53, -122.0)</td>\n",
       "      <td>{'id': 'a1835017081', 'polyline': None, 'summa...</td>\n",
       "      <td>5.352491</td>\n",
       "      <td>0.924041</td>\n",
       "    </tr>\n",
       "  </tbody>\n",
       "</table>\n",
       "</div>"
      ],
      "text/plain": [
       "       upload_id  average_speed  distance elapsed_time  total_elevation_gain  \\\n",
       "7   2.125245e+09          2.475    9526.0      1:07:40                 349.0   \n",
       "40  2.058270e+09          2.270    8053.0      1:02:44                 397.0   \n",
       "46  2.044265e+09          2.638    8292.0      0:56:12                 330.0   \n",
       "68  1.999151e+09          2.596    8150.5      0:53:50                 304.0   \n",
       "85  1.967110e+09          2.543    8614.0      0:58:09                 347.0   \n",
       "\n",
       "   type     start_date_local     start_latlng       end_latlng  \\\n",
       "7   Run  2018-11-27T06:39:11  (47.53, -122.0)  (47.53, -122.0)   \n",
       "40  Run  2018-10-23T06:38:20  (47.53, -122.0)  (47.53, -122.0)   \n",
       "46  Run  2018-10-16T06:36:04  (47.53, -122.0)  (47.53, -122.0)   \n",
       "68  Run  2018-09-25T06:38:01  (47.53, -122.0)  (47.53, -122.0)   \n",
       "85  Run  2018-09-11T06:37:54  (47.53, -122.0)  (47.53, -122.0)   \n",
       "\n",
       "                                                  map  miles_converted  \\\n",
       "7   {'id': 'a1987829499', 'polyline': None, 'summa...         5.919182   \n",
       "40  {'id': 'a1923022506', 'polyline': None, 'summa...         5.003902   \n",
       "46  {'id': 'a1909511405', 'polyline': None, 'summa...         5.152410   \n",
       "68  {'id': 'a1865991014', 'polyline': None, 'summa...         5.064486   \n",
       "85  {'id': 'a1835017081', 'polyline': None, 'summa...         5.352491   \n",
       "\n",
       "    distance_away  \n",
       "7        0.924041  \n",
       "40       0.924041  \n",
       "46       0.924041  \n",
       "68       0.924041  \n",
       "85       0.924041  "
      ]
     },
     "execution_count": 43,
     "metadata": {},
     "output_type": "execute_result"
    }
   ],
   "source": [
    "working_df.head()"
   ]
  },
  {
   "cell_type": "markdown",
   "metadata": {},
   "source": [
    "### Get a dataframe of Recommendations Here"
   ]
  },
  {
   "cell_type": "code",
   "execution_count": 44,
   "metadata": {},
   "outputs": [],
   "source": [
    "recommend_dict, recommend_indices = recommend_runs([100, 5], working_df , ['elevation_std', 'miles_std'])"
   ]
  },
  {
   "cell_type": "code",
   "execution_count": null,
   "metadata": {},
   "outputs": [],
   "source": []
  },
  {
   "cell_type": "code",
   "execution_count": 18,
   "metadata": {},
   "outputs": [],
   "source": [
    "def make_polyline_lst(recommend_dict):\n",
    "    '''Take in a dictionary of map objects and return dictionary of polylines{index:polyline} and the indices\n",
    "    for the polylines as a list.'''\n",
    "    polylines = {}\n",
    "    for k, v in recommend_dict.items():\n",
    "        v = ast.literal_eval(v)\n",
    "        if v['summary_polyline'] != None: #make sure the polyline list isn't empty\n",
    "            polylines[k] = v['summary_polyline']\n",
    "    indices = list(polylines.keys())\n",
    "    return polylines, indices"
   ]
  },
  {
   "cell_type": "code",
   "execution_count": 19,
   "metadata": {},
   "outputs": [],
   "source": [
    "polylines,indices = make_polyline_lst(recommend_dict)"
   ]
  },
  {
   "cell_type": "code",
   "execution_count": 20,
   "metadata": {},
   "outputs": [
    {
     "data": {
      "text/plain": [
       "[91,\n",
       " 1393,\n",
       " 623,\n",
       " 1437,\n",
       " 263,\n",
       " 12363,\n",
       " 1478,\n",
       " 1358,\n",
       " 12301,\n",
       " 12420,\n",
       " 12296,\n",
       " 7,\n",
       " 1452,\n",
       " 120,\n",
       " 12288,\n",
       " 1370,\n",
       " 1207,\n",
       " 10440,\n",
       " 6286,\n",
       " 1375]"
      ]
     },
     "execution_count": 20,
     "metadata": {},
     "output_type": "execute_result"
    }
   ],
   "source": [
    "indices  #use these to later go back into dataframe for run stats"
   ]
  },
  {
   "cell_type": "code",
   "execution_count": 21,
   "metadata": {},
   "outputs": [],
   "source": [
    "#get coordinates for the polylines in the list\n",
    "map_coordinates = []\n",
    "for line in list(polylines.values()):\n",
    "    coordinates = polyline.decode(line)\n",
    "    map_coordinates.append(coordinates)"
   ]
  },
  {
   "cell_type": "code",
   "execution_count": 22,
   "metadata": {},
   "outputs": [],
   "source": [
    "def find_centroids(coordinate_lst):\n",
    "    centroids = []\n",
    "    for l in coordinate_lst:\n",
    "        lats = []\n",
    "        longs = []\n",
    "        for point in l:\n",
    "            lats.append(point[0])\n",
    "            longs.append(point[1])\n",
    "        centroid = (round(np.mean(lats), 3), round(np.mean(longs), 3))\n",
    "        centroids.append(centroid)\n",
    "    return centroids"
   ]
  },
  {
   "cell_type": "code",
   "execution_count": 23,
   "metadata": {},
   "outputs": [],
   "source": [
    "def make_comparison_df(coordinate_lst, df, indices):\n",
    "    centroids = find_centroids(coordinate_lst)\n",
    "    lats = []\n",
    "    longs = []\n",
    "    elevation_lst = []\n",
    "    for c in centroids:\n",
    "        lats.append(c[0])\n",
    "        longs.append(c[1])\n",
    "    for idx in indices: #get the elevation for the runs in the suggestion list.\n",
    "        row = df.loc[idx] \n",
    "        elevation_lst.append(row['total_elevation_gain'])\n",
    "    comparison_df = pd.DataFrame({'lats': lats, 'longs':longs, 'elevation':elevation_lst})\n",
    "    return comparison_df"
   ]
  },
  {
   "cell_type": "code",
   "execution_count": 24,
   "metadata": {},
   "outputs": [],
   "source": [
    "comparison_df = make_comparison_df(map_coordinates, working_df, indices)"
   ]
  },
  {
   "cell_type": "code",
   "execution_count": 25,
   "metadata": {},
   "outputs": [],
   "source": [
    "comparison_array = comparison_df.values\n",
    "comparison_array_std = (comparison_array - np.mean(comparison_array, axis=0)) / np.std(comparison_array, axis=0)\n",
    "#make comparisons with all the datapoints in the comparison array\n",
    "cosine_sim_arr = cosine_similarity(comparison_array_std)"
   ]
  },
  {
   "cell_type": "code",
   "execution_count": 53,
   "metadata": {},
   "outputs": [
    {
     "data": {
      "text/plain": [
       "array([7, 7, 4, 6, 5, 1, 4, 6, 1, 6, 1, 5, 4, 4, 1, 3, 7, 8, 2, 9],\n",
       "      dtype=int32)"
      ]
     },
     "execution_count": 53,
     "metadata": {},
     "output_type": "execute_result"
    }
   ],
   "source": [
    "threshold = 0.05\n",
    "Z = hierarchy.linkage(cosine_sim_arr, 'average', metric=\"cosine\")\n",
    "C = hierarchy.fcluster(Z, threshold, criterion=\"distance\")\n",
    "ids = list(range(20)) #make a list of numbers 0-19 to use as indices for a cluster groups dictionary\n",
    "C"
   ]
  },
  {
   "cell_type": "code",
   "execution_count": 54,
   "metadata": {},
   "outputs": [],
   "source": [
    "cluster_groups = defaultdict(list)\n",
    "for idx, grouping in enumerate(C):\n",
    "    cluster_groups[grouping].append(idx)"
   ]
  },
  {
   "cell_type": "code",
   "execution_count": 55,
   "metadata": {},
   "outputs": [],
   "source": [
    "indices_to_use = []\n",
    "for value in cluster_groups.values():\n",
    "    indices_to_use.append(value[0])"
   ]
  },
  {
   "cell_type": "code",
   "execution_count": 56,
   "metadata": {},
   "outputs": [],
   "source": [
    "def get_indices(groups):\n",
    "    sort_groups = sorted(groups, key=len)\n",
    "    sort_groups = sort_groups[::-1]\n",
    "    indices_to_use = []\n",
    "    for group in sort_groups:\n",
    "        group = list(group)\n",
    "        indices_to_use.append(group[0])\n",
    "    return indices_to_use"
   ]
  },
  {
   "cell_type": "code",
   "execution_count": 57,
   "metadata": {},
   "outputs": [
    {
     "data": {
      "text/plain": [
       "[0, 2, 3, 4, 5, 15, 17, 18, 19]"
      ]
     },
     "execution_count": 57,
     "metadata": {},
     "output_type": "execute_result"
    }
   ],
   "source": [
    "indices_to_use"
   ]
  },
  {
   "cell_type": "code",
   "execution_count": 58,
   "metadata": {},
   "outputs": [],
   "source": [
    "def map_indices(indices_to_use, indices):\n",
    "    '''Takes in indices_to_use from 20 suggested routes and the actual indices of the 20 routes in the larger\n",
    "    dataframe and returns a mapping of indices_to_use back to the index in the larger dataframe. \n",
    "    Use: to retrieve stats for suggested routes'''\n",
    "    mapping = {}\n",
    "    for idx, i in enumerate(indices):\n",
    "        if idx in indices_to_use:\n",
    "            mapping[idx] = i\n",
    "    return mapping\n",
    "        "
   ]
  },
  {
   "cell_type": "code",
   "execution_count": 59,
   "metadata": {},
   "outputs": [
    {
     "data": {
      "text/plain": [
       "{0: 91,\n",
       " 2: 623,\n",
       " 3: 1437,\n",
       " 4: 263,\n",
       " 5: 12363,\n",
       " 15: 1370,\n",
       " 17: 10440,\n",
       " 18: 6286,\n",
       " 19: 1375}"
      ]
     },
     "execution_count": 59,
     "metadata": {},
     "output_type": "execute_result"
    }
   ],
   "source": [
    "mapping_dict = map_indices(indices_to_use, indices)\n",
    "mapping_dict"
   ]
  },
  {
   "cell_type": "code",
   "execution_count": 60,
   "metadata": {},
   "outputs": [],
   "source": [
    "unique_coordinates = [map_coordinates[i] for i in indices_to_use]"
   ]
  },
  {
   "cell_type": "code",
   "execution_count": 61,
   "metadata": {},
   "outputs": [],
   "source": [
    "lat, long = map_coordinates[0][0]\n",
    "m = folium.Map(location=[lat, long], zoom_start=12.2)"
   ]
  },
  {
   "cell_type": "code",
   "execution_count": 62,
   "metadata": {},
   "outputs": [],
   "source": [
    "for idx, route in enumerate(unique_coordinates[0:5]):\n",
    "    colors = ['blue','green','red','orange','purple']\n",
    "    folium.PolyLine(\n",
    "            route,\n",
    "            weight=2,\n",
    "            color=colors[idx]\n",
    "        ).add_to(m)"
   ]
  },
  {
   "cell_type": "code",
   "execution_count": 63,
   "metadata": {},
   "outputs": [],
   "source": [
    "from html import parser\n"
   ]
  },
  {
   "cell_type": "code",
   "execution_count": 64,
   "metadata": {},
   "outputs": [],
   "source": [
    "parser = parser.HTMLParser()"
   ]
  },
  {
   "cell_type": "code",
   "execution_count": 68,
   "metadata": {},
   "outputs": [
    {
     "data": {
      "text/plain": [
       "<branca.element.Element at 0x108f36588>"
      ]
     },
     "execution_count": 68,
     "metadata": {},
     "output_type": "execute_result"
    }
   ],
   "source": [
    "legend_html = '''<div style= \"position: fixed; \n",
    "     bottom: 50px; left: 50px; width: 100px; height: 200px; \n",
    "     border:2px solid grey; z-index:9999; font-size:14px;\n",
    "     \">&nbsp; Routes <br>\n",
    "     &nbsp; Route_1 &nbsp; <i class=\"fa fa-square fa-2x\"\n",
    "                  style=\"color:blue\"></i><br>\n",
    "     &nbsp; Route_2 &nbsp; <i class=\"fa fa-square fa-2x\"\n",
    "                  style=\"color:green\"></i>\n",
    "     &nbsp; Route_3 &nbsp; <i class=\"fa fa-square fa-2x\"\n",
    "                  style=\"color:red\"></i><br>\n",
    "     &nbsp; Route_4 &nbsp; <i class=\"fa fa-square fa-2x\"\n",
    "                  style=\"color:orange\"></i>\n",
    "     &nbsp; Route_4 &nbsp; <i class=\"fa fa-square fa-2x\"\n",
    "                  style=\"color:purple\"></i>\n",
    "    </div>'''\n",
    "    \n",
    "m.get_root().html.add_child(folium.Element(legend_html))"
   ]
  },
  {
   "cell_type": "code",
   "execution_count": 69,
   "metadata": {},
   "outputs": [
    {
     "data": {
      "text/plain": [
       "str"
      ]
     },
     "execution_count": 69,
     "metadata": {},
     "output_type": "execute_result"
    }
   ],
   "source": [
    "type(legend_html)"
   ]
  },
  {
   "cell_type": "code",
   "execution_count": 70,
   "metadata": {},
   "outputs": [
    {
     "data": {
      "text/html": [
       "<div style=\"width:100%;\"><div style=\"position:relative;width:100%;height:0;padding-bottom:60%;\"><iframe src=\"data:text/html;charset=utf-8;base64,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\" style=\"position:absolute;width:100%;height:100%;left:0;top:0;border:none !important;\" allowfullscreen webkitallowfullscreen mozallowfullscreen></iframe></div></div>"
      ],
      "text/plain": [
       "<folium.folium.Map at 0x108f36940>"
      ]
     },
     "execution_count": 70,
     "metadata": {},
     "output_type": "execute_result"
    }
   ],
   "source": [
    "m.get_root().html.add_child(folium.Element(legend_html))\n",
    "m"
   ]
  },
  {
   "cell_type": "code",
   "execution_count": null,
   "metadata": {},
   "outputs": [],
   "source": []
  },
  {
   "cell_type": "code",
   "execution_count": null,
   "metadata": {},
   "outputs": [],
   "source": []
  }
 ],
 "metadata": {
  "kernelspec": {
   "display_name": "Python 3",
   "language": "python",
   "name": "python3"
  },
  "language_info": {
   "codemirror_mode": {
    "name": "ipython",
    "version": 3
   },
   "file_extension": ".py",
   "mimetype": "text/x-python",
   "name": "python",
   "nbconvert_exporter": "python",
   "pygments_lexer": "ipython3",
   "version": "3.6.6"
  }
 },
 "nbformat": 4,
 "nbformat_minor": 2
}
