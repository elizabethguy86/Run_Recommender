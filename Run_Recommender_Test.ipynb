{
 "cells": [
  {
   "cell_type": "code",
   "execution_count": 1,
   "metadata": {},
   "outputs": [],
   "source": [
    "\n",
    "import pandas as pd\n",
    "import numpy as np\n",
    "import polyline\n",
    "import gpxpy\n",
    "import folium\n",
    "import ast\n",
    "from collections import defaultdict, Counter\n",
    "from math import radians, cos, sin, asin, sqrt\n",
    "from sklearn.metrics.pairwise import cosine_similarity\n",
    "from sklearn.preprocessing import scale\n",
    "from scipy.cluster import  hierarchy\n",
    "from math import radians, cos, sin, asin, sqrt"
   ]
  },
  {
   "cell_type": "code",
   "execution_count": 2,
   "metadata": {},
   "outputs": [],
   "source": [
    "df = pd.read_csv('run_data_11-27-2018.csv')"
   ]
  },
  {
   "cell_type": "code",
   "execution_count": 3,
   "metadata": {},
   "outputs": [],
   "source": [
    "df = df.iloc[:,1::]"
   ]
  },
  {
   "cell_type": "code",
   "execution_count": 4,
   "metadata": {},
   "outputs": [
    {
     "data": {
      "text/plain": [
       "19731"
      ]
     },
     "execution_count": 4,
     "metadata": {},
     "output_type": "execute_result"
    }
   ],
   "source": [
    "len(df)"
   ]
  },
  {
   "cell_type": "code",
   "execution_count": 5,
   "metadata": {},
   "outputs": [],
   "source": [
    "def haversine(lat1, lon1, lat2, lon2):\n",
    "    \"\"\"\n",
    "    Calculate the great circle distance between two points \n",
    "    on the earth (specified in decimal degrees)\n",
    "    paraphrased from \n",
    "    https://stackoverflow.com/questions/4913349/haversine-formula-in-python-bearing-and-distance-between-two-gps-points\n",
    "    \"\"\"\n",
    "    # convert decimal degrees to radians \n",
    "    lon1, lat1, lon2, lat2 = map(radians, [lon1, lat1, lon2, lat2])\n",
    "\n",
    "    # haversine formula \n",
    "    dlon = lon2 - lon1 \n",
    "    dlat = lat2 - lat1 \n",
    "    a = sin(dlat/2)**2 + cos(lat1) * cos(lat2) * sin(dlon/2)**2\n",
    "    c = 2 * asin(sqrt(a)) \n",
    "    r = 6371 # Radius of earth in kilometers. Use 3956 for miles\n",
    "    return c * r"
   ]
  },
  {
   "cell_type": "code",
   "execution_count": 6,
   "metadata": {},
   "outputs": [],
   "source": [
    "def find_distances(coordinate1, coordinate2):\n",
    "    lat1, lon1 = coordinate1\n",
    "    lat2, lon2 = coordinate2\n",
    "    distance = haversine(lat1, lon1, lat2, lon2)\n",
    "    return distance\n"
   ]
  },
  {
   "cell_type": "code",
   "execution_count": 7,
   "metadata": {},
   "outputs": [],
   "source": [
    "def make_floats(tup):\n",
    "    x, y = tup\n",
    "    return (float(x), float(y))"
   ]
  },
  {
   "cell_type": "code",
   "execution_count": 8,
   "metadata": {},
   "outputs": [],
   "source": [
    "def get_distances(df, start):\n",
    "    '''Takes in a dataframe of activities and returns a dataframe with start and end latlng as tuples with floats.\n",
    "    Also returns the distance away from a starting point input.'''\n",
    "   \n",
    "    df_starts = df[(~df['start_latlng'].isna()) & (~df['end_latlng'].isna())].copy()\n",
    "    df_starts['start_latlng'] = df_starts['start_latlng'].apply(lambda x: x.split(\",\"))\n",
    "    df_starts['start_latlng'] = df_starts['start_latlng'].apply(lambda x: tuple(x))\n",
    "    df_starts['start_latlng'] = df_starts['start_latlng'].apply(lambda x: make_floats(x))\n",
    "    df_starts['end_latlng'] = df_starts['end_latlng'].apply(lambda x: x.split(\",\"))\n",
    "    df_starts['end_latlng'] = df_starts['end_latlng'].apply(lambda x: tuple(x))\n",
    "    df_starts['end_latlng'] = df_starts['end_latlng'].apply(lambda x: make_floats(x))\n",
    "    df_starts['distance_away'] = df_starts['start_latlng'].apply(lambda x: find_distances(start, x))\n",
    "    return df_starts\n",
    "    "
   ]
  },
  {
   "cell_type": "markdown",
   "metadata": {},
   "source": [
    "### Start Here With Your Location"
   ]
  },
  {
   "cell_type": "code",
   "execution_count": 9,
   "metadata": {},
   "outputs": [],
   "source": [
    "start = (47.529832, -121.987695)"
   ]
  },
  {
   "cell_type": "code",
   "execution_count": 10,
   "metadata": {},
   "outputs": [],
   "source": [
    "df_starts = get_distances(df, start)"
   ]
  },
  {
   "cell_type": "code",
   "execution_count": 11,
   "metadata": {},
   "outputs": [
    {
     "data": {
      "text/html": [
       "<div>\n",
       "<style scoped>\n",
       "    .dataframe tbody tr th:only-of-type {\n",
       "        vertical-align: middle;\n",
       "    }\n",
       "\n",
       "    .dataframe tbody tr th {\n",
       "        vertical-align: top;\n",
       "    }\n",
       "\n",
       "    .dataframe thead th {\n",
       "        text-align: right;\n",
       "    }\n",
       "</style>\n",
       "<table border=\"1\" class=\"dataframe\">\n",
       "  <thead>\n",
       "    <tr style=\"text-align: right;\">\n",
       "      <th></th>\n",
       "      <th>upload_id</th>\n",
       "      <th>average_speed</th>\n",
       "      <th>distance</th>\n",
       "      <th>elapsed_time</th>\n",
       "      <th>total_elevation_gain</th>\n",
       "      <th>type</th>\n",
       "      <th>start_date_local</th>\n",
       "      <th>start_latlng</th>\n",
       "      <th>end_latlng</th>\n",
       "      <th>map</th>\n",
       "      <th>miles_converted</th>\n",
       "      <th>distance_away</th>\n",
       "    </tr>\n",
       "  </thead>\n",
       "  <tbody>\n",
       "    <tr>\n",
       "      <th>0</th>\n",
       "      <td>1.919166e+09</td>\n",
       "      <td>3.238</td>\n",
       "      <td>4429.7</td>\n",
       "      <td>0:37:28</td>\n",
       "      <td>31.0</td>\n",
       "      <td>Run</td>\n",
       "      <td>2018-08-21T12:21:27</td>\n",
       "      <td>(47.61, -122.35)</td>\n",
       "      <td>(47.6, -122.33)</td>\n",
       "      <td>{'id': 'a1788404266', 'polyline': None, 'summa...</td>\n",
       "      <td>2.752488</td>\n",
       "      <td>28.605295</td>\n",
       "    </tr>\n",
       "  </tbody>\n",
       "</table>\n",
       "</div>"
      ],
      "text/plain": [
       "      upload_id  average_speed  distance elapsed_time  total_elevation_gain  \\\n",
       "0  1.919166e+09          3.238    4429.7      0:37:28                  31.0   \n",
       "\n",
       "  type     start_date_local      start_latlng       end_latlng  \\\n",
       "0  Run  2018-08-21T12:21:27  (47.61, -122.35)  (47.6, -122.33)   \n",
       "\n",
       "                                                 map  miles_converted  \\\n",
       "0  {'id': 'a1788404266', 'polyline': None, 'summa...         2.752488   \n",
       "\n",
       "   distance_away  \n",
       "0      28.605295  "
      ]
     },
     "execution_count": 11,
     "metadata": {},
     "output_type": "execute_result"
    }
   ],
   "source": [
    "df_starts.head(1)"
   ]
  },
  {
   "cell_type": "code",
   "execution_count": 12,
   "metadata": {},
   "outputs": [],
   "source": [
    "working_df = df_starts[df_starts['distance_away']<= 3]"
   ]
  },
  {
   "cell_type": "code",
   "execution_count": 13,
   "metadata": {},
   "outputs": [],
   "source": [
    "def standardize_inputs(user_input, df):\n",
    "    '''Standardize the user inputs for cosine similarity'''\n",
    "    elevation = user_input[0]\n",
    "    distance = user_input[1]\n",
    "    std_elevation = (elevation - df['total_elevation_gain'].mean())/df['total_elevation_gain'].std()\n",
    "    std_distance = (distance - df['miles_converted'].mean())/df['miles_converted'].std()\n",
    "    return np.array([std_elevation,std_distance])"
   ]
  },
  {
   "cell_type": "code",
   "execution_count": 14,
   "metadata": {},
   "outputs": [],
   "source": [
    "def recommend_runs(request, df, columns_to_check):\n",
    "    '''Inputs are a list of user-specified elevation gain in meters and miles to run, \n",
    "    dataframe of activities, and the columns of the dataframe to check \n",
    "    for cosine similarity. Columns to check should be in standardized form.  \n",
    "    Output is a dictionary of polyline maps for route recommendations.'''\n",
    "    df = df.copy()\n",
    "    #requires sklearn.cosine_similarity\n",
    "    df.loc[:, 'elevation_std'] = scale(df['total_elevation_gain'].values.reshape(-1, 1))\n",
    "    df.loc[:, 'miles_std'] = scale(df['miles_converted'].values.reshape(-1, 1))\n",
    "    similarity_df = df.loc[:, columns_to_check]\n",
    "    user_input = standardize_inputs(request, df)\n",
    "    user_input = user_input.reshape(1,len(columns_to_check))\n",
    "    user_input_reshaped = user_input.reshape(1,-1)\n",
    "    similarities = cosine_similarity(similarity_df, user_input_reshaped)\n",
    "    sort_indices = np.argsort(similarities, axis = None)\n",
    "    top_20 = sort_indices[-20:]\n",
    "    recommend_indices = list(top_20[::-1]) #reverse the order\n",
    "    recommendations = df.iloc[recommend_indices, :]\n",
    "    return dict(recommendations['map']), recommend_indices"
   ]
  },
  {
   "cell_type": "code",
   "execution_count": 15,
   "metadata": {},
   "outputs": [
    {
     "data": {
      "text/html": [
       "<div>\n",
       "<style scoped>\n",
       "    .dataframe tbody tr th:only-of-type {\n",
       "        vertical-align: middle;\n",
       "    }\n",
       "\n",
       "    .dataframe tbody tr th {\n",
       "        vertical-align: top;\n",
       "    }\n",
       "\n",
       "    .dataframe thead th {\n",
       "        text-align: right;\n",
       "    }\n",
       "</style>\n",
       "<table border=\"1\" class=\"dataframe\">\n",
       "  <thead>\n",
       "    <tr style=\"text-align: right;\">\n",
       "      <th></th>\n",
       "      <th>upload_id</th>\n",
       "      <th>average_speed</th>\n",
       "      <th>distance</th>\n",
       "      <th>elapsed_time</th>\n",
       "      <th>total_elevation_gain</th>\n",
       "      <th>type</th>\n",
       "      <th>start_date_local</th>\n",
       "      <th>start_latlng</th>\n",
       "      <th>end_latlng</th>\n",
       "      <th>map</th>\n",
       "      <th>miles_converted</th>\n",
       "      <th>distance_away</th>\n",
       "    </tr>\n",
       "  </thead>\n",
       "  <tbody>\n",
       "    <tr>\n",
       "      <th>7</th>\n",
       "      <td>2.125245e+09</td>\n",
       "      <td>2.475</td>\n",
       "      <td>9526.0</td>\n",
       "      <td>1:07:40</td>\n",
       "      <td>349.0</td>\n",
       "      <td>Run</td>\n",
       "      <td>2018-11-27T06:39:11</td>\n",
       "      <td>(47.53, -122.0)</td>\n",
       "      <td>(47.53, -122.0)</td>\n",
       "      <td>{'id': 'a1987829499', 'polyline': None, 'summa...</td>\n",
       "      <td>5.919182</td>\n",
       "      <td>0.924041</td>\n",
       "    </tr>\n",
       "    <tr>\n",
       "      <th>40</th>\n",
       "      <td>2.058270e+09</td>\n",
       "      <td>2.270</td>\n",
       "      <td>8053.0</td>\n",
       "      <td>1:02:44</td>\n",
       "      <td>397.0</td>\n",
       "      <td>Run</td>\n",
       "      <td>2018-10-23T06:38:20</td>\n",
       "      <td>(47.53, -122.0)</td>\n",
       "      <td>(47.53, -122.0)</td>\n",
       "      <td>{'id': 'a1923022506', 'polyline': None, 'summa...</td>\n",
       "      <td>5.003902</td>\n",
       "      <td>0.924041</td>\n",
       "    </tr>\n",
       "    <tr>\n",
       "      <th>46</th>\n",
       "      <td>2.044265e+09</td>\n",
       "      <td>2.638</td>\n",
       "      <td>8292.0</td>\n",
       "      <td>0:56:12</td>\n",
       "      <td>330.0</td>\n",
       "      <td>Run</td>\n",
       "      <td>2018-10-16T06:36:04</td>\n",
       "      <td>(47.53, -122.0)</td>\n",
       "      <td>(47.53, -122.0)</td>\n",
       "      <td>{'id': 'a1909511405', 'polyline': None, 'summa...</td>\n",
       "      <td>5.152410</td>\n",
       "      <td>0.924041</td>\n",
       "    </tr>\n",
       "    <tr>\n",
       "      <th>68</th>\n",
       "      <td>1.999151e+09</td>\n",
       "      <td>2.596</td>\n",
       "      <td>8150.5</td>\n",
       "      <td>0:53:50</td>\n",
       "      <td>304.0</td>\n",
       "      <td>Run</td>\n",
       "      <td>2018-09-25T06:38:01</td>\n",
       "      <td>(47.53, -122.0)</td>\n",
       "      <td>(47.53, -122.0)</td>\n",
       "      <td>{'id': 'a1865991014', 'polyline': None, 'summa...</td>\n",
       "      <td>5.064486</td>\n",
       "      <td>0.924041</td>\n",
       "    </tr>\n",
       "    <tr>\n",
       "      <th>85</th>\n",
       "      <td>1.967110e+09</td>\n",
       "      <td>2.543</td>\n",
       "      <td>8614.0</td>\n",
       "      <td>0:58:09</td>\n",
       "      <td>347.0</td>\n",
       "      <td>Run</td>\n",
       "      <td>2018-09-11T06:37:54</td>\n",
       "      <td>(47.53, -122.0)</td>\n",
       "      <td>(47.53, -122.0)</td>\n",
       "      <td>{'id': 'a1835017081', 'polyline': None, 'summa...</td>\n",
       "      <td>5.352491</td>\n",
       "      <td>0.924041</td>\n",
       "    </tr>\n",
       "  </tbody>\n",
       "</table>\n",
       "</div>"
      ],
      "text/plain": [
       "       upload_id  average_speed  distance elapsed_time  total_elevation_gain  \\\n",
       "7   2.125245e+09          2.475    9526.0      1:07:40                 349.0   \n",
       "40  2.058270e+09          2.270    8053.0      1:02:44                 397.0   \n",
       "46  2.044265e+09          2.638    8292.0      0:56:12                 330.0   \n",
       "68  1.999151e+09          2.596    8150.5      0:53:50                 304.0   \n",
       "85  1.967110e+09          2.543    8614.0      0:58:09                 347.0   \n",
       "\n",
       "   type     start_date_local     start_latlng       end_latlng  \\\n",
       "7   Run  2018-11-27T06:39:11  (47.53, -122.0)  (47.53, -122.0)   \n",
       "40  Run  2018-10-23T06:38:20  (47.53, -122.0)  (47.53, -122.0)   \n",
       "46  Run  2018-10-16T06:36:04  (47.53, -122.0)  (47.53, -122.0)   \n",
       "68  Run  2018-09-25T06:38:01  (47.53, -122.0)  (47.53, -122.0)   \n",
       "85  Run  2018-09-11T06:37:54  (47.53, -122.0)  (47.53, -122.0)   \n",
       "\n",
       "                                                  map  miles_converted  \\\n",
       "7   {'id': 'a1987829499', 'polyline': None, 'summa...         5.919182   \n",
       "40  {'id': 'a1923022506', 'polyline': None, 'summa...         5.003902   \n",
       "46  {'id': 'a1909511405', 'polyline': None, 'summa...         5.152410   \n",
       "68  {'id': 'a1865991014', 'polyline': None, 'summa...         5.064486   \n",
       "85  {'id': 'a1835017081', 'polyline': None, 'summa...         5.352491   \n",
       "\n",
       "    distance_away  \n",
       "7        0.924041  \n",
       "40       0.924041  \n",
       "46       0.924041  \n",
       "68       0.924041  \n",
       "85       0.924041  "
      ]
     },
     "execution_count": 15,
     "metadata": {},
     "output_type": "execute_result"
    }
   ],
   "source": [
    "working_df.head()"
   ]
  },
  {
   "cell_type": "markdown",
   "metadata": {},
   "source": [
    "### Get a dataframe of Recommendations Here"
   ]
  },
  {
   "cell_type": "code",
   "execution_count": 16,
   "metadata": {},
   "outputs": [],
   "source": [
    "recommend_dict, recommend_indices = recommend_runs([100, 5], working_df , ['elevation_std', 'miles_std'])"
   ]
  },
  {
   "cell_type": "code",
   "execution_count": null,
   "metadata": {},
   "outputs": [],
   "source": []
  },
  {
   "cell_type": "code",
   "execution_count": 17,
   "metadata": {},
   "outputs": [],
   "source": [
    "def make_polyline_dict(recommend_dict):\n",
    "    '''Take in a dictionary of map objects and return dictionary of polylines{index:polyline} and the indices\n",
    "    for the polylines as a list.'''\n",
    "    polylines = {}\n",
    "    for k, v in recommend_dict.items():\n",
    "        v = ast.literal_eval(v)\n",
    "        if v['summary_polyline'] != None: #make sure the polyline list isn't empty\n",
    "            polylines[k] = v['summary_polyline']\n",
    "    indices = list(polylines.keys())\n",
    "    return polylines, indices"
   ]
  },
  {
   "cell_type": "code",
   "execution_count": 18,
   "metadata": {},
   "outputs": [],
   "source": [
    "polylines,indices = make_polyline_dict(recommend_dict)"
   ]
  },
  {
   "cell_type": "code",
   "execution_count": 19,
   "metadata": {},
   "outputs": [
    {
     "data": {
      "text/plain": [
       "[91,\n",
       " 1393,\n",
       " 623,\n",
       " 1437,\n",
       " 263,\n",
       " 12363,\n",
       " 1478,\n",
       " 1358,\n",
       " 12301,\n",
       " 12420,\n",
       " 12296,\n",
       " 7,\n",
       " 1452,\n",
       " 120,\n",
       " 12288,\n",
       " 1370,\n",
       " 1207,\n",
       " 10440,\n",
       " 6286,\n",
       " 1375]"
      ]
     },
     "execution_count": 19,
     "metadata": {},
     "output_type": "execute_result"
    }
   ],
   "source": [
    "indices  #use these to later go back into dataframe for run stats"
   ]
  },
  {
   "cell_type": "code",
   "execution_count": 20,
   "metadata": {},
   "outputs": [],
   "source": [
    "#get coordinates for the polylines in the list\n",
    "map_coordinates = []\n",
    "for line in list(polylines.values()):\n",
    "    coordinates = polyline.decode(line)\n",
    "    map_coordinates.append(coordinates)"
   ]
  },
  {
   "cell_type": "code",
   "execution_count": 21,
   "metadata": {},
   "outputs": [],
   "source": [
    "def find_centroids(coordinate_lst):\n",
    "    centroids = []\n",
    "    for l in coordinate_lst:\n",
    "        lats = []\n",
    "        longs = []\n",
    "        for point in l:\n",
    "            lats.append(point[0])\n",
    "            longs.append(point[1])\n",
    "        centroid = (round(np.mean(lats), 3), round(np.mean(longs), 3))\n",
    "        centroids.append(centroid)\n",
    "    return centroids"
   ]
  },
  {
   "cell_type": "code",
   "execution_count": 22,
   "metadata": {},
   "outputs": [],
   "source": [
    "def make_comparison_df(coordinate_lst, df, indices):\n",
    "    centroids = find_centroids(coordinate_lst)\n",
    "    lats = []\n",
    "    longs = []\n",
    "    elevation_lst = []\n",
    "    for c in centroids:\n",
    "        lats.append(c[0])\n",
    "        longs.append(c[1])\n",
    "    for idx in indices: #get the elevation for the runs in the suggestion list.\n",
    "        row = df.loc[idx] \n",
    "        elevation_lst.append(row['total_elevation_gain'])\n",
    "    comparison_df = pd.DataFrame({'lats': lats, 'longs':longs, 'elevation':elevation_lst})\n",
    "    return comparison_df"
   ]
  },
  {
   "cell_type": "code",
   "execution_count": 23,
   "metadata": {},
   "outputs": [],
   "source": [
    "comparison_df = make_comparison_df(map_coordinates, working_df, indices)"
   ]
  },
  {
   "cell_type": "code",
   "execution_count": 24,
   "metadata": {},
   "outputs": [],
   "source": [
    "comparison_array = comparison_df.values\n",
    "comparison_array_std = (comparison_array - np.mean(comparison_array, axis=0)) / np.std(comparison_array, axis=0)\n",
    "#make comparisons with all the datapoints in the comparison array\n",
    "cosine_sim_arr = cosine_similarity(comparison_array_std)"
   ]
  },
  {
   "cell_type": "code",
   "execution_count": 25,
   "metadata": {},
   "outputs": [
    {
     "data": {
      "text/plain": [
       "array([7, 7, 4, 6, 5, 1, 4, 6, 1, 6, 1, 5, 4, 4, 1, 3, 7, 8, 2, 9],\n",
       "      dtype=int32)"
      ]
     },
     "execution_count": 25,
     "metadata": {},
     "output_type": "execute_result"
    }
   ],
   "source": [
    "threshold = 0.05\n",
    "Z = hierarchy.linkage(cosine_sim_arr, 'average', metric=\"cosine\")\n",
    "C = hierarchy.fcluster(Z, threshold, criterion=\"distance\")\n",
    "ids = list(range(20)) #make a list of numbers 0-19 to use as indices for a cluster groups dictionary\n",
    "C"
   ]
  },
  {
   "cell_type": "code",
   "execution_count": 26,
   "metadata": {},
   "outputs": [],
   "source": [
    "cluster_groups = defaultdict(list)\n",
    "for idx, grouping in enumerate(C):\n",
    "    cluster_groups[grouping].append(idx)"
   ]
  },
  {
   "cell_type": "code",
   "execution_count": 61,
   "metadata": {},
   "outputs": [],
   "source": [
    "def get_indices(groups):\n",
    "    '''Takes in dictionary of cluster_groupings and returns a list of indices\n",
    "    to use for route suggestions'''\n",
    "    sort_groups = sorted(list(groups.values()), key=len)\n",
    "    sort_groups = sort_groups[::-1]\n",
    "    indices_to_use = []\n",
    "    for group in sort_groups:\n",
    "        if len(group) >= 1:\n",
    "            indices_to_use.append(group[0])\n",
    "    return indices_to_use"
   ]
  },
  {
   "cell_type": "code",
   "execution_count": 67,
   "metadata": {},
   "outputs": [
    {
     "data": {
      "text/plain": [
       "[5, 2, 3, 0, 4, 19, 18, 17, 15]"
      ]
     },
     "execution_count": 67,
     "metadata": {},
     "output_type": "execute_result"
    }
   ],
   "source": [
    "indices_to_use = get_indices(cluster_groups)\n",
    "indices_to_use"
   ]
  },
  {
   "cell_type": "code",
   "execution_count": null,
   "metadata": {},
   "outputs": [],
   "source": []
  },
  {
   "cell_type": "code",
   "execution_count": 69,
   "metadata": {},
   "outputs": [],
   "source": [
    "def map_indices(indices_to_use, indices):\n",
    "    '''Takes in indices_to_use from 20 suggested routes and the actual indices of the 20 routes in the larger\n",
    "    dataframe and returns a mapping of indices_to_use back to the index in the larger dataframe. \n",
    "    Use: to retrieve stats for suggested routes'''\n",
    "    mapping = {}\n",
    "    for idx, i in enumerate(indices):\n",
    "        if idx in indices_to_use:\n",
    "            mapping[idx] = i\n",
    "    return mapping\n",
    "        "
   ]
  },
  {
   "cell_type": "code",
   "execution_count": 73,
   "metadata": {},
   "outputs": [],
   "source": [
    "mapping_dict = map_indices(indices_to_use, indices)\n"
   ]
  },
  {
   "cell_type": "code",
   "execution_count": 74,
   "metadata": {},
   "outputs": [
    {
     "data": {
      "text/plain": [
       "{0: 91,\n",
       " 2: 623,\n",
       " 3: 1437,\n",
       " 4: 263,\n",
       " 5: 12363,\n",
       " 15: 1370,\n",
       " 17: 10440,\n",
       " 18: 6286,\n",
       " 19: 1375}"
      ]
     },
     "execution_count": 74,
     "metadata": {},
     "output_type": "execute_result"
    }
   ],
   "source": [
    "mapping_dict"
   ]
  },
  {
   "cell_type": "code",
   "execution_count": null,
   "metadata": {},
   "outputs": [],
   "source": []
  },
  {
   "cell_type": "code",
   "execution_count": 102,
   "metadata": {},
   "outputs": [],
   "source": [
    "def return_route_stats(mapping_dict, indices_to_use, df):\n",
    "    mapping = []\n",
    "    for i in indices_to_use[0:5]:\n",
    "        mapping.append(mapping_dict[i])\n",
    "    slice_df = df.iloc[mapping]\n",
    "    return slice_df.loc[:, ['total_elevation_gain', 'miles_converted']].reset_index()\n",
    "        "
   ]
  },
  {
   "cell_type": "code",
   "execution_count": 103,
   "metadata": {},
   "outputs": [
    {
     "data": {
      "text/html": [
       "<div>\n",
       "<style scoped>\n",
       "    .dataframe tbody tr th:only-of-type {\n",
       "        vertical-align: middle;\n",
       "    }\n",
       "\n",
       "    .dataframe tbody tr th {\n",
       "        vertical-align: top;\n",
       "    }\n",
       "\n",
       "    .dataframe thead th {\n",
       "        text-align: right;\n",
       "    }\n",
       "</style>\n",
       "<table border=\"1\" class=\"dataframe\">\n",
       "  <thead>\n",
       "    <tr style=\"text-align: right;\">\n",
       "      <th></th>\n",
       "      <th>index</th>\n",
       "      <th>total_elevation_gain</th>\n",
       "      <th>miles_converted</th>\n",
       "    </tr>\n",
       "  </thead>\n",
       "  <tbody>\n",
       "    <tr>\n",
       "      <th>0</th>\n",
       "      <td>12363</td>\n",
       "      <td>276.0</td>\n",
       "      <td>6.264851</td>\n",
       "    </tr>\n",
       "    <tr>\n",
       "      <th>1</th>\n",
       "      <td>623</td>\n",
       "      <td>148.0</td>\n",
       "      <td>4.857259</td>\n",
       "    </tr>\n",
       "    <tr>\n",
       "      <th>2</th>\n",
       "      <td>1437</td>\n",
       "      <td>283.1</td>\n",
       "      <td>5.634470</td>\n",
       "    </tr>\n",
       "    <tr>\n",
       "      <th>3</th>\n",
       "      <td>91</td>\n",
       "      <td>587.0</td>\n",
       "      <td>7.502436</td>\n",
       "    </tr>\n",
       "    <tr>\n",
       "      <th>4</th>\n",
       "      <td>263</td>\n",
       "      <td>390.1</td>\n",
       "      <td>6.241363</td>\n",
       "    </tr>\n",
       "  </tbody>\n",
       "</table>\n",
       "</div>"
      ],
      "text/plain": [
       "   index  total_elevation_gain  miles_converted\n",
       "0  12363                 276.0         6.264851\n",
       "1    623                 148.0         4.857259\n",
       "2   1437                 283.1         5.634470\n",
       "3     91                 587.0         7.502436\n",
       "4    263                 390.1         6.241363"
      ]
     },
     "execution_count": 103,
     "metadata": {},
     "output_type": "execute_result"
    }
   ],
   "source": [
    "return_route_stats(mapping_dict, indices_to_use, df)"
   ]
  },
  {
   "cell_type": "code",
   "execution_count": 104,
   "metadata": {},
   "outputs": [],
   "source": [
    "unique_coordinates = [map_coordinates[i] for i in indices_to_use]"
   ]
  },
  {
   "cell_type": "code",
   "execution_count": 105,
   "metadata": {},
   "outputs": [],
   "source": [
    "lat, long = map_coordinates[0][0]\n",
    "m = folium.Map(location=[lat, long], zoom_start=12.2)"
   ]
  },
  {
   "cell_type": "code",
   "execution_count": 106,
   "metadata": {},
   "outputs": [],
   "source": [
    "for idx, route in enumerate(unique_coordinates[0:5]):\n",
    "    colors = ['blue','green','red','orange','purple']\n",
    "    folium.PolyLine(\n",
    "            route,\n",
    "            weight=2,\n",
    "            color=colors[idx]\n",
    "        ).add_to(m)"
   ]
  },
  {
   "cell_type": "code",
   "execution_count": 107,
   "metadata": {},
   "outputs": [
    {
     "data": {
      "text/plain": [
       "<branca.element.Element at 0x1a1d4f5358>"
      ]
     },
     "execution_count": 107,
     "metadata": {},
     "output_type": "execute_result"
    }
   ],
   "source": [
    "legend_html = '''<div style= \"position: fixed; \n",
    "     bottom: 50px; left: 50px; width: 100px; height: 180px; \n",
    "     border:2px solid grey; z-index:9999; font-size:14px;\n",
    "     \">&nbsp; Routes <br>\n",
    "     &nbsp; Route_0 &nbsp; <i class=\"fa fa-square fa-2x\"\n",
    "                  style=\"color:blue\"></i><br>\n",
    "     &nbsp; Route_1 &nbsp; <i class=\"fa fa-square fa-2x\"\n",
    "                  style=\"color:green\"></i>\n",
    "     &nbsp; Route_2 &nbsp; <i class=\"fa fa-square fa-2x\"\n",
    "                  style=\"color:red\"></i><br>\n",
    "     &nbsp; Route_3 &nbsp; <i class=\"fa fa-square fa-2x\"\n",
    "                  style=\"color:orange\"></i>\n",
    "     &nbsp; Route_4 &nbsp; <i class=\"fa fa-square fa-2x\"\n",
    "                  style=\"color:purple\"></i>\n",
    "    </div>'''\n",
    "    \n",
    "m.get_root().html.add_child(folium.Element(legend_html))"
   ]
  },
  {
   "cell_type": "code",
   "execution_count": 108,
   "metadata": {},
   "outputs": [
    {
     "data": {
      "text/html": [
       "<div style=\"width:100%;\"><div style=\"position:relative;width:100%;height:0;padding-bottom:60%;\"><iframe src=\"data:text/html;charset=utf-8;base64,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\" style=\"position:absolute;width:100%;height:100%;left:0;top:0;border:none !important;\" allowfullscreen webkitallowfullscreen mozallowfullscreen></iframe></div></div>"
      ],
      "text/plain": [
       "<folium.folium.Map at 0x1a1d4f5438>"
      ]
     },
     "execution_count": 108,
     "metadata": {},
     "output_type": "execute_result"
    }
   ],
   "source": [
    "\n",
    "m"
   ]
  },
  {
   "cell_type": "code",
   "execution_count": null,
   "metadata": {},
   "outputs": [],
   "source": []
  },
  {
   "cell_type": "code",
   "execution_count": null,
   "metadata": {},
   "outputs": [],
   "source": []
  }
 ],
 "metadata": {
  "kernelspec": {
   "display_name": "Python 3",
   "language": "python",
   "name": "python3"
  },
  "language_info": {
   "codemirror_mode": {
    "name": "ipython",
    "version": 3
   },
   "file_extension": ".py",
   "mimetype": "text/x-python",
   "name": "python",
   "nbconvert_exporter": "python",
   "pygments_lexer": "ipython3",
   "version": "3.6.6"
  }
 },
 "nbformat": 4,
 "nbformat_minor": 2
}
