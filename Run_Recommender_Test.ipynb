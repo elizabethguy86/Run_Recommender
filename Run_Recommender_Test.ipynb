{
 "cells": [
  {
   "cell_type": "code",
   "execution_count": 69,
   "metadata": {},
   "outputs": [],
   "source": [
    "from stravalib.client import Client\n",
    "from stravalib import model\n",
    "import json\n",
    "import pandas as pd\n",
    "import numpy as np\n",
    "import polyline\n",
    "import gpxpy\n",
    "import folium\n",
    "import ast\n",
    "from collections import defaultdict, Counter\n",
    "from pymongo import MongoClient\n",
    "from math import radians, cos, sin, asin, sqrt\n",
    "from sklearn.metrics.pairwise import cosine_similarity\n",
    "from sklearn.preprocessing import scale\n",
    "from math import radians, cos, sin, asin, sqrt"
   ]
  },
  {
   "cell_type": "code",
   "execution_count": 3,
   "metadata": {},
   "outputs": [],
   "source": [
    "df = pd.read_csv('run_data_11-27-2018.csv')"
   ]
  },
  {
   "cell_type": "code",
   "execution_count": 15,
   "metadata": {},
   "outputs": [],
   "source": [
    "df = df.iloc[:,1::]"
   ]
  },
  {
   "cell_type": "code",
   "execution_count": 18,
   "metadata": {},
   "outputs": [],
   "source": [
    "def haversine(lat1, lon1, lat2, lon2):\n",
    "    \"\"\"\n",
    "    Calculate the great circle distance between two points \n",
    "    on the earth (specified in decimal degrees)\n",
    "    paraphrased from \n",
    "    https://stackoverflow.com/questions/4913349/haversine-formula-in-python-bearing-and-distance-between-two-gps-points\n",
    "    \"\"\"\n",
    "    # convert decimal degrees to radians \n",
    "    lon1, lat1, lon2, lat2 = map(radians, [lon1, lat1, lon2, lat2])\n",
    "\n",
    "    # haversine formula \n",
    "    dlon = lon2 - lon1 \n",
    "    dlat = lat2 - lat1 \n",
    "    a = sin(dlat/2)**2 + cos(lat1) * cos(lat2) * sin(dlon/2)**2\n",
    "    c = 2 * asin(sqrt(a)) \n",
    "    r = 6371 # Radius of earth in kilometers. Use 3956 for miles\n",
    "    return c * r"
   ]
  },
  {
   "cell_type": "code",
   "execution_count": 19,
   "metadata": {},
   "outputs": [],
   "source": [
    "def find_distances(coordinate1, coordinate2):\n",
    "    lat1, lon1 = coordinate1\n",
    "    lat2, lon2 = coordinate2\n",
    "    distance = haversine(lat1, lon1, lat2, lon2)\n",
    "    return distance\n"
   ]
  },
  {
   "cell_type": "code",
   "execution_count": 20,
   "metadata": {},
   "outputs": [],
   "source": [
    "def make_floats(tup):\n",
    "    x, y = tup\n",
    "    return (float(x), float(y))"
   ]
  },
  {
   "cell_type": "code",
   "execution_count": 21,
   "metadata": {},
   "outputs": [],
   "source": [
    "def get_distances(df, start):\n",
    "    '''Takes in a dataframe of activities and returns a dataframe with start and end latlng as tuples with floats.\n",
    "    Also returns the distance away from a starting point input.'''\n",
    "    df_starts = df[(~df['start_latlng'].isna()) & (~df['end_latlng'].isna())]\n",
    "    df_starts['start_latlng'] = df_starts['start_latlng'].apply(lambda x: x.split(\",\"))\n",
    "    df_starts['start_latlng'] = df_starts['start_latlng'].apply(lambda x: tuple(x))\n",
    "    df_starts['start_latlng'] = df_starts['start_latlng'].apply(lambda x: make_floats(x))\n",
    "    df_starts['end_latlng'] = df_starts['end_latlng'].apply(lambda x: x.split(\",\"))\n",
    "    df_starts['end_latlng'] = df_starts['end_latlng'].apply(lambda x: tuple(x))\n",
    "    df_starts['end_latlng'] = df_starts['end_latlng'].apply(lambda x: make_floats(x))\n",
    "    df_starts['distance_away'] = df_starts['start_latlng'].apply(lambda x: find_distances(start, x))\n",
    "    return df_starts\n",
    "    "
   ]
  },
  {
   "cell_type": "markdown",
   "metadata": {},
   "source": [
    "### Start Here With Your Location"
   ]
  },
  {
   "cell_type": "code",
   "execution_count": 22,
   "metadata": {},
   "outputs": [],
   "source": [
    "start = (47.6573, -122.4076)"
   ]
  },
  {
   "cell_type": "code",
   "execution_count": 24,
   "metadata": {},
   "outputs": [
    {
     "name": "stderr",
     "output_type": "stream",
     "text": [
      "/anaconda3/lib/python3.6/site-packages/ipykernel_launcher.py:5: SettingWithCopyWarning: \n",
      "A value is trying to be set on a copy of a slice from a DataFrame.\n",
      "Try using .loc[row_indexer,col_indexer] = value instead\n",
      "\n",
      "See the caveats in the documentation: http://pandas.pydata.org/pandas-docs/stable/indexing.html#indexing-view-versus-copy\n",
      "  \"\"\"\n",
      "/anaconda3/lib/python3.6/site-packages/ipykernel_launcher.py:6: SettingWithCopyWarning: \n",
      "A value is trying to be set on a copy of a slice from a DataFrame.\n",
      "Try using .loc[row_indexer,col_indexer] = value instead\n",
      "\n",
      "See the caveats in the documentation: http://pandas.pydata.org/pandas-docs/stable/indexing.html#indexing-view-versus-copy\n",
      "  \n",
      "/anaconda3/lib/python3.6/site-packages/ipykernel_launcher.py:7: SettingWithCopyWarning: \n",
      "A value is trying to be set on a copy of a slice from a DataFrame.\n",
      "Try using .loc[row_indexer,col_indexer] = value instead\n",
      "\n",
      "See the caveats in the documentation: http://pandas.pydata.org/pandas-docs/stable/indexing.html#indexing-view-versus-copy\n",
      "  import sys\n",
      "/anaconda3/lib/python3.6/site-packages/ipykernel_launcher.py:8: SettingWithCopyWarning: \n",
      "A value is trying to be set on a copy of a slice from a DataFrame.\n",
      "Try using .loc[row_indexer,col_indexer] = value instead\n",
      "\n",
      "See the caveats in the documentation: http://pandas.pydata.org/pandas-docs/stable/indexing.html#indexing-view-versus-copy\n",
      "  \n",
      "/anaconda3/lib/python3.6/site-packages/ipykernel_launcher.py:9: SettingWithCopyWarning: \n",
      "A value is trying to be set on a copy of a slice from a DataFrame.\n",
      "Try using .loc[row_indexer,col_indexer] = value instead\n",
      "\n",
      "See the caveats in the documentation: http://pandas.pydata.org/pandas-docs/stable/indexing.html#indexing-view-versus-copy\n",
      "  if __name__ == '__main__':\n",
      "/anaconda3/lib/python3.6/site-packages/ipykernel_launcher.py:10: SettingWithCopyWarning: \n",
      "A value is trying to be set on a copy of a slice from a DataFrame.\n",
      "Try using .loc[row_indexer,col_indexer] = value instead\n",
      "\n",
      "See the caveats in the documentation: http://pandas.pydata.org/pandas-docs/stable/indexing.html#indexing-view-versus-copy\n",
      "  # Remove the CWD from sys.path while we load stuff.\n",
      "/anaconda3/lib/python3.6/site-packages/ipykernel_launcher.py:11: SettingWithCopyWarning: \n",
      "A value is trying to be set on a copy of a slice from a DataFrame.\n",
      "Try using .loc[row_indexer,col_indexer] = value instead\n",
      "\n",
      "See the caveats in the documentation: http://pandas.pydata.org/pandas-docs/stable/indexing.html#indexing-view-versus-copy\n",
      "  # This is added back by InteractiveShellApp.init_path()\n"
     ]
    }
   ],
   "source": [
    "df_starts = get_distances(df, start)"
   ]
  },
  {
   "cell_type": "code",
   "execution_count": 26,
   "metadata": {},
   "outputs": [],
   "source": [
    "working_df = df_starts[df_starts['distance_away']<= 3]"
   ]
  },
  {
   "cell_type": "code",
   "execution_count": null,
   "metadata": {},
   "outputs": [],
   "source": []
  },
  {
   "cell_type": "code",
   "execution_count": 28,
   "metadata": {},
   "outputs": [],
   "source": [
    "def standardize_inputs(user_input, df):\n",
    "    '''Standardize the user inputs for cosine similarity'''\n",
    "    elevation = user_input[0]\n",
    "    distance = user_input[1]\n",
    "    std_elevation = (elevation - df['total_elevation_gain'].mean())/df['total_elevation_gain'].std()\n",
    "    std_distance = (distance - df['miles_converted'].mean())/df['miles_converted'].std()\n",
    "    return np.array([std_elevation,std_distance])"
   ]
  },
  {
   "cell_type": "code",
   "execution_count": 73,
   "metadata": {},
   "outputs": [],
   "source": [
    "def recommend_runs(request, df, columns_to_check):\n",
    "    '''Inputs are a list of user-specified elevation gain in meters and miles to run, \n",
    "    dataframe of activities, and the columns of the dataframe to check \n",
    "    for cosine similarity. Columns to check should be in standardized form.  \n",
    "    Output is a dictionary of polyline maps for route recommendations.'''\n",
    "    \n",
    "    #requires sklearn.cosine_similarity\n",
    "    \n",
    "    df['elevation_std'] = scale(df['total_elevation_gain'])\n",
    "    df['miles_std'] = scale(df['miles_converted'])\n",
    "    similarity_df = df.loc[:, columns_to_check]\n",
    "    user_input = standardize_inputs(request, df)\n",
    "    user_input = user_input.reshape(1,len(columns_to_check))\n",
    "    user_input_reshaped = user_input.reshape(1,-1)\n",
    "    similarities = cosine_similarity(similarity_df, user_input_reshaped)\n",
    "    sort_indices = np.argsort(similarities, axis = None)\n",
    "    top_20 = sort_indices[-20:]\n",
    "    recommend_indices = list(top_20[::-1]) #reverse the order\n",
    "    recommendations = df.iloc[recommend_indices, :]\n",
    "    return dict(recommendations['map'])"
   ]
  },
  {
   "cell_type": "code",
   "execution_count": null,
   "metadata": {},
   "outputs": [],
   "source": []
  },
  {
   "cell_type": "markdown",
   "metadata": {},
   "source": [
    "### Get a dataframe of Recommendations Here"
   ]
  },
  {
   "cell_type": "code",
   "execution_count": 74,
   "metadata": {},
   "outputs": [
    {
     "name": "stderr",
     "output_type": "stream",
     "text": [
      "/anaconda3/lib/python3.6/site-packages/ipykernel_launcher.py:9: SettingWithCopyWarning: \n",
      "A value is trying to be set on a copy of a slice from a DataFrame.\n",
      "Try using .loc[row_indexer,col_indexer] = value instead\n",
      "\n",
      "See the caveats in the documentation: http://pandas.pydata.org/pandas-docs/stable/indexing.html#indexing-view-versus-copy\n",
      "  if __name__ == '__main__':\n",
      "/anaconda3/lib/python3.6/site-packages/ipykernel_launcher.py:10: SettingWithCopyWarning: \n",
      "A value is trying to be set on a copy of a slice from a DataFrame.\n",
      "Try using .loc[row_indexer,col_indexer] = value instead\n",
      "\n",
      "See the caveats in the documentation: http://pandas.pydata.org/pandas-docs/stable/indexing.html#indexing-view-versus-copy\n",
      "  # Remove the CWD from sys.path while we load stuff.\n"
     ]
    }
   ],
   "source": [
    "recommend_dict = recommend_runs([100, 4], working_df , ['elevation_std', 'miles_std'])"
   ]
  },
  {
   "cell_type": "code",
   "execution_count": 91,
   "metadata": {},
   "outputs": [],
   "source": [
    "def make_polyline_lst(recommend_dict):\n",
    "    '''Take in a dictionary of map objects and return dictionary of polylines{index:polyline} and the indices\n",
    "    for the polylines as a list.'''\n",
    "    polylines = {}\n",
    "    for k, v in recommend_dict.items():\n",
    "        v = ast.literal_eval(v)\n",
    "        if v['summary_polyline'] != None: #make sure the polyline list isn't empty\n",
    "            polylines[k] = v['summary_polyline']\n",
    "    indices = list(polylines.keys())\n",
    "    return polylines, indices"
   ]
  },
  {
   "cell_type": "code",
   "execution_count": null,
   "metadata": {},
   "outputs": [],
   "source": []
  },
  {
   "cell_type": "code",
   "execution_count": 80,
   "metadata": {},
   "outputs": [],
   "source": [
    "polylines,indices = make_polyline_lst(recommend_dict)"
   ]
  },
  {
   "cell_type": "code",
   "execution_count": 86,
   "metadata": {},
   "outputs": [],
   "source": [
    "#get coordinates for the polylines in the list\n",
    "map_coordinates = []\n",
    "for line in list(polylines.values()):\n",
    "    coordinates = polyline.decode(line)\n",
    "    map_coordinates.append(coordinates)"
   ]
  },
  {
   "cell_type": "code",
   "execution_count": 85,
   "metadata": {},
   "outputs": [],
   "source": []
  },
  {
   "cell_type": "code",
   "execution_count": 27,
   "metadata": {},
   "outputs": [],
   "source": [
    "def find_centroids(coordinate_lst):\n",
    "    centroids = []\n",
    "    for l in coordinate_lst:\n",
    "        lats = []\n",
    "        longs = []\n",
    "        for point in l:\n",
    "            lats.append(point[0])\n",
    "            longs.append(point[1])\n",
    "        centroid = (round(np.mean(lats), 3), round(np.mean(longs), 3))\n",
    "        centroids.append(centroid)\n",
    "    return centroids"
   ]
  },
  {
   "cell_type": "code",
   "execution_count": 113,
   "metadata": {},
   "outputs": [],
   "source": [
    "def make_comparison_df(coordinate_lst, df, indices):\n",
    "    centroids = find_centroids(coordinate_lst)\n",
    "    lats = []\n",
    "    longs = []\n",
    "    elevation_lst = []\n",
    "    for c in centroids:\n",
    "        lats.append(c[0])\n",
    "        longs.append(c[1])\n",
    "    for idx in indices: #get the elevation for the runs in the suggestion list.\n",
    "        row = df.loc[idx] \n",
    "        elevation_lst.append(row['total_elevation_gain'])\n",
    "    comparison_df = pd.DataFrame({'lats': lats, 'longs':longs, 'elevation':elevation_lst})\n",
    "    return comparison_df"
   ]
  },
  {
   "cell_type": "code",
   "execution_count": null,
   "metadata": {},
   "outputs": [],
   "source": []
  },
  {
   "cell_type": "code",
   "execution_count": 325,
   "metadata": {},
   "outputs": [],
   "source": [
    "comparison_df = make_comparison_df(map_coordinates, working_df, indices)"
   ]
  },
  {
   "cell_type": "code",
   "execution_count": null,
   "metadata": {},
   "outputs": [],
   "source": []
  },
  {
   "cell_type": "code",
   "execution_count": 355,
   "metadata": {},
   "outputs": [],
   "source": [
    "def cosine_sim_threshold_idx(df):\n",
    "    '''Takes in a dataframe of map lat centroids, map long centroids, and elevation gain and returns a list\n",
    "       of indices that are below a similarity threshold for each map'''\n",
    "    comparison_array = df.values\n",
    "    comparison_array_std = (comparison_array - np.mean(comparison_array, axis=0)) / np.std(comparison_array, axis=0)\n",
    "    #make comparisons with all the datapoints in the comparison array\n",
    "    cosine_sim_arr = cosine_similarity(comparison_array_std)\n",
    "    idx_dict = {}\n",
    "    for idx1, sim in enumerate(cosine_sim_arr): \n",
    "        #goes through cosine similarity arrays for each index \n",
    "        #and returns those that are below a similarity threshold\n",
    "        lst = []\n",
    "        for idx, num in enumerate(sim):\n",
    "            if abs(num) > 0.994:\n",
    "                lst.append(idx)\n",
    "        idx_dict[idx1] = tuple(lst)\n",
    "    groups = [set(x) for x in set(idx_dict.values())]\n",
    "    unique_groups = merge_groups(groups)\n",
    "    return unique_groups, groups\n",
    "    "
   ]
  },
  {
   "cell_type": "code",
   "execution_count": 356,
   "metadata": {},
   "outputs": [],
   "source": [
    "groups_unique, groups = cosine_sim_threshold_idx(comparison_df)"
   ]
  },
  {
   "cell_type": "code",
   "execution_count": 357,
   "metadata": {},
   "outputs": [
    {
     "data": {
      "text/plain": [
       "[{1, 9, 19},\n",
       " {15},\n",
       " {0},\n",
       " {2},\n",
       " {3},\n",
       " {4},\n",
       " {6, 8, 10, 11},\n",
       " {5},\n",
       " {16},\n",
       " {1, 19},\n",
       " {1, 9},\n",
       " {17},\n",
       " {12},\n",
       " {7},\n",
       " {18},\n",
       " {13},\n",
       " {14}]"
      ]
     },
     "execution_count": 357,
     "metadata": {},
     "output_type": "execute_result"
    }
   ],
   "source": [
    "groups"
   ]
  },
  {
   "cell_type": "code",
   "execution_count": 330,
   "metadata": {},
   "outputs": [],
   "source": [
    "check_unions = []\n",
    "for group in groups:\n",
    "    if len(group) > 1:\n",
    "        check_unions.append(group)"
   ]
  },
  {
   "cell_type": "code",
   "execution_count": 332,
   "metadata": {},
   "outputs": [
    {
     "ename": "SyntaxError",
     "evalue": "unexpected EOF while parsing (<ipython-input-332-cbceadb12871>, line 3)",
     "output_type": "error",
     "traceback": [
      "\u001b[0;36m  File \u001b[0;32m\"<ipython-input-332-cbceadb12871>\"\u001b[0;36m, line \u001b[0;32m3\u001b[0m\n\u001b[0;31m    if group1 != group2 and group1.intersection(group2):\u001b[0m\n\u001b[0m                                                        ^\u001b[0m\n\u001b[0;31mSyntaxError\u001b[0m\u001b[0;31m:\u001b[0m unexpected EOF while parsing\n"
     ]
    }
   ],
   "source": [
    "unique_groups = []\n",
    "for group1 in check_unions:\n",
    "    for group2 in check_unions:\n",
    "        if group1 != group2 and group1.intersection(group2):\n",
    "            merged = group1.union(group2)\n",
    "            unique_groups.append(merged)"
   ]
  },
  {
   "cell_type": "code",
   "execution_count": 361,
   "metadata": {},
   "outputs": [],
   "source": [
    "from scipy.cluster import  hierarchy"
   ]
  },
  {
   "cell_type": "code",
   "execution_count": 359,
   "metadata": {},
   "outputs": [],
   "source": [
    "comparison_array = comparison_df.values\n",
    "comparison_array_std = (comparison_array - np.mean(comparison_array, axis=0)) / np.std(comparison_array, axis=0)\n",
    "#make comparisons with all the datapoints in the comparison array\n",
    "cosine_sim_arr = cosine_similarity(comparison_array_std)"
   ]
  },
  {
   "cell_type": "code",
   "execution_count": 399,
   "metadata": {},
   "outputs": [],
   "source": [
    "threshold = 0.1\n",
    "Z = hierarchy.linkage(cosine_sim_arr, 'average', metric=\"cosine\")\n",
    "C = hierarchy.fcluster(Z, threshold, criterion=\"distance\")\n",
    "ids = list(range(20))\n",
    "cluster_groups = defaultdict(list)\n",
    "for idx, grouping in enumerate(C):\n",
    "    cluster_groups[grouping].append(idx)\n",
    "\n"
   ]
  },
  {
   "cell_type": "code",
   "execution_count": 398,
   "metadata": {},
   "outputs": [],
   "source": [
    "indices_to_use = []\n",
    "for value in cluster_groups.values():\n",
    "    indices_to_use.append(value[0])"
   ]
  },
  {
   "cell_type": "code",
   "execution_count": 320,
   "metadata": {},
   "outputs": [],
   "source": [
    "def merge_groups(groups):\n",
    "    #need to fix the case where there are chains of intersections:  A in B and B in C\n",
    "    merged_groups = []\n",
    "    unique_groups = []\n",
    "    for group1 in groups:\n",
    "        for group2 in groups:\n",
    "            if group1 != group2 and group1.intersection(group2):\n",
    "                merged = group1.union(group2)\n",
    "                merged_groups.append(merged)\n",
    "            else:\n",
    "                merged_groups.append(group1)\n",
    "    for g in merged_groups:\n",
    "        if g not in unique_groups:\n",
    "            unique_groups.append(g)\n",
    "    return unique_groups\n",
    "    "
   ]
  },
  {
   "cell_type": "code",
   "execution_count": 354,
   "metadata": {},
   "outputs": [],
   "source": [
    "def get_indices(groups):\n",
    "    sort_groups = sorted(groups, key=len)\n",
    "    sort_groups = sort_groups[::-1]\n",
    "    indices_to_use = []\n",
    "    for group in sort_groups:\n",
    "        group = list(group)\n",
    "        indices_to_use.append(group[0])\n",
    "    return indices_to_use"
   ]
  },
  {
   "cell_type": "code",
   "execution_count": 348,
   "metadata": {},
   "outputs": [],
   "source": [
    "indices_to_use = []\n",
    "for group in sort_groups:\n",
    "    group = list(group)\n",
    "    indices_to_use.append(group[0])"
   ]
  },
  {
   "cell_type": "code",
   "execution_count": 390,
   "metadata": {},
   "outputs": [
    {
     "data": {
      "text/plain": [
       "[0, 1, 2, 3, 5, 12, 14, 16, 19]"
      ]
     },
     "execution_count": 390,
     "metadata": {},
     "output_type": "execute_result"
    }
   ],
   "source": [
    "indices_to_use"
   ]
  },
  {
   "cell_type": "code",
   "execution_count": 384,
   "metadata": {},
   "outputs": [],
   "source": []
  },
  {
   "cell_type": "code",
   "execution_count": 391,
   "metadata": {},
   "outputs": [],
   "source": [
    "unique_coordinates = [map_coordinates[i] for i in indices_to_use]"
   ]
  },
  {
   "cell_type": "code",
   "execution_count": 392,
   "metadata": {},
   "outputs": [],
   "source": [
    "lat, long = map_coordinates[0][0]\n",
    "m = folium.Map(location=[lat, long], zoom_start=12.2)"
   ]
  },
  {
   "cell_type": "code",
   "execution_count": 393,
   "metadata": {},
   "outputs": [],
   "source": [
    "for idx, route in enumerate(unique_coordinates[0:5]):\n",
    "    colors = ['blue','green','red','orange','purple']\n",
    "    folium.PolyLine(\n",
    "            route,\n",
    "            weight=2,\n",
    "            color=colors[idx]\n",
    "        ).add_to(m)"
   ]
  },
  {
   "cell_type": "code",
   "execution_count": 394,
   "metadata": {},
   "outputs": [
    {
     "data": {
      "text/html": [
       "<div style=\"width:100%;\"><div style=\"position:relative;width:100%;height:0;padding-bottom:60%;\"><iframe src=\"data:text/html;charset=utf-8;base64,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\" style=\"position:absolute;width:100%;height:100%;left:0;top:0;border:none !important;\" allowfullscreen webkitallowfullscreen mozallowfullscreen></iframe></div></div>"
      ],
      "text/plain": [
       "<folium.folium.Map at 0x1a1987f908>"
      ]
     },
     "execution_count": 394,
     "metadata": {},
     "output_type": "execute_result"
    }
   ],
   "source": [
    "m"
   ]
  },
  {
   "cell_type": "code",
   "execution_count": null,
   "metadata": {},
   "outputs": [],
   "source": []
  }
 ],
 "metadata": {
  "kernelspec": {
   "display_name": "Python 3",
   "language": "python",
   "name": "python3"
  },
  "language_info": {
   "codemirror_mode": {
    "name": "ipython",
    "version": 3
   },
   "file_extension": ".py",
   "mimetype": "text/x-python",
   "name": "python",
   "nbconvert_exporter": "python",
   "pygments_lexer": "ipython3",
   "version": "3.6.6"
  }
 },
 "nbformat": 4,
 "nbformat_minor": 2
}
