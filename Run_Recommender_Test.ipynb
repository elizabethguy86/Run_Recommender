{
 "cells": [
  {
   "cell_type": "code",
   "execution_count": 3,
   "metadata": {},
   "outputs": [],
   "source": [
    "\n",
    "import pandas as pd\n",
    "import numpy as np\n",
    "import polyline\n",
    "import gpxpy\n",
    "import folium\n",
    "import ast\n",
    "from collections import defaultdict, Counter\n",
    "from math import radians, cos, sin, asin, sqrt\n",
    "from sklearn.metrics.pairwise import cosine_similarity\n",
    "from sklearn.preprocessing import scale\n",
    "from scipy.cluster import  hierarchy\n",
    "from math import radians, cos, sin, asin, sqrt"
   ]
  },
  {
   "cell_type": "code",
   "execution_count": 4,
   "metadata": {},
   "outputs": [],
   "source": [
    "df = pd.read_csv('Sample_Data/run_data_11-27-2018.csv')"
   ]
  },
  {
   "cell_type": "code",
   "execution_count": 5,
   "metadata": {},
   "outputs": [],
   "source": [
    "df = df.iloc[:,1::]"
   ]
  },
  {
   "cell_type": "code",
   "execution_count": 6,
   "metadata": {},
   "outputs": [
    {
     "data": {
      "text/plain": [
       "19731"
      ]
     },
     "execution_count": 6,
     "metadata": {},
     "output_type": "execute_result"
    }
   ],
   "source": [
    "len(df)"
   ]
  },
  {
   "cell_type": "code",
   "execution_count": 11,
   "metadata": {},
   "outputs": [],
   "source": [
    "def haversine(lat1, lon1, lat2, lon2):\n",
    "    \"\"\"\n",
    "    Calculate the great circle distance between two points \n",
    "    on the earth (specified in decimal degrees)\n",
    "    paraphrased from \n",
    "    https://stackoverflow.com/questions/4913349/haversine-formula-in-python-bearing-and-distance-between-two-gps-points\n",
    "    \"\"\"\n",
    "    # convert decimal degrees to radians \n",
    "    lon1, lat1, lon2, lat2 = map(radians, [lon1, lat1, lon2, lat2])\n",
    "\n",
    "    # haversine formula \n",
    "    dlon = lon2 - lon1 \n",
    "    dlat = lat2 - lat1 \n",
    "    a = sin(dlat/2)**2 + cos(lat1) * cos(lat2) * sin(dlon/2)**2\n",
    "    c = 2 * asin(sqrt(a)) \n",
    "    r = 3956 # Radius of earth in miles. Use 6371 for km.\n",
    "    return c * r"
   ]
  },
  {
   "cell_type": "code",
   "execution_count": 12,
   "metadata": {},
   "outputs": [],
   "source": [
    "def find_distances(coordinate1, coordinate2):\n",
    "    lat1, lon1 = coordinate1\n",
    "    lat2, lon2 = coordinate2\n",
    "    distance = haversine(lat1, lon1, lat2, lon2)\n",
    "    return distance\n"
   ]
  },
  {
   "cell_type": "code",
   "execution_count": 13,
   "metadata": {},
   "outputs": [],
   "source": [
    "def make_floats(tup):\n",
    "    x, y = tup\n",
    "    return (float(x), float(y))"
   ]
  },
  {
   "cell_type": "code",
   "execution_count": 25,
   "metadata": {},
   "outputs": [],
   "source": [
    "def get_distances(df, start):\n",
    "    '''Takes in a dataframe of activities and returns a dataframe with start and end latlng as tuples with floats.\n",
    "    Also returns the distance away from a starting point input.'''\n",
    "   \n",
    "    df_starts = df[(~df['start_latlng'].isna()) & (~df['end_latlng'].isna())].copy()\n",
    "    df_starts.loc[:,'start_latlng'] = df_starts.loc[:,'start_latlng'].apply(lambda x: x.split(\",\"))\n",
    "    df_starts.loc[:,'start_latlng'] = df_starts.loc[:,'start_latlng'].apply(lambda x: tuple(x))\n",
    "    df_starts.loc[:,'start_latlng'] = df_starts.loc[:,'start_latlng'].apply(lambda x: make_floats(x))\n",
    "    df_starts.loc[:,'end_latlng'] = df_starts.loc[:,'end_latlng'].apply(lambda x: x.split(\",\"))\n",
    "    df_starts.loc[:,'end_latlng'] = df_starts.loc[:,'end_latlng'].apply(lambda x: tuple(x))\n",
    "    df_starts.loc[:,'end_latlng'] = df_starts.loc[:,'end_latlng'].apply(lambda x: make_floats(x))\n",
    "    df_starts.loc[:,'distance_away'] = df_starts.loc[:,'start_latlng'].apply(lambda x: find_distances(start, x))\n",
    "    return df_starts\n",
    "    "
   ]
  },
  {
   "cell_type": "markdown",
   "metadata": {},
   "source": [
    "### Start Here With Your Location"
   ]
  },
  {
   "cell_type": "code",
   "execution_count": 26,
   "metadata": {},
   "outputs": [],
   "source": [
    "start = (47.529832, -121.987695)"
   ]
  },
  {
   "cell_type": "code",
   "execution_count": 27,
   "metadata": {},
   "outputs": [],
   "source": [
    "df_starts = get_distances(df, start)"
   ]
  },
  {
   "cell_type": "code",
   "execution_count": 28,
   "metadata": {},
   "outputs": [
    {
     "data": {
      "text/html": [
       "<div>\n",
       "<style scoped>\n",
       "    .dataframe tbody tr th:only-of-type {\n",
       "        vertical-align: middle;\n",
       "    }\n",
       "\n",
       "    .dataframe tbody tr th {\n",
       "        vertical-align: top;\n",
       "    }\n",
       "\n",
       "    .dataframe thead th {\n",
       "        text-align: right;\n",
       "    }\n",
       "</style>\n",
       "<table border=\"1\" class=\"dataframe\">\n",
       "  <thead>\n",
       "    <tr style=\"text-align: right;\">\n",
       "      <th></th>\n",
       "      <th>upload_id</th>\n",
       "      <th>average_speed</th>\n",
       "      <th>distance</th>\n",
       "      <th>elapsed_time</th>\n",
       "      <th>total_elevation_gain</th>\n",
       "      <th>type</th>\n",
       "      <th>start_date_local</th>\n",
       "      <th>start_latlng</th>\n",
       "      <th>end_latlng</th>\n",
       "      <th>map</th>\n",
       "      <th>miles_converted</th>\n",
       "      <th>distance_away</th>\n",
       "    </tr>\n",
       "  </thead>\n",
       "  <tbody>\n",
       "    <tr>\n",
       "      <th>0</th>\n",
       "      <td>1.919166e+09</td>\n",
       "      <td>3.238</td>\n",
       "      <td>4429.7</td>\n",
       "      <td>0:37:28</td>\n",
       "      <td>31.0</td>\n",
       "      <td>Run</td>\n",
       "      <td>2018-08-21T12:21:27</td>\n",
       "      <td>(47.61, -122.35)</td>\n",
       "      <td>(47.6, -122.33)</td>\n",
       "      <td>{'id': 'a1788404266', 'polyline': None, 'summa...</td>\n",
       "      <td>2.752488</td>\n",
       "      <td>17.762133</td>\n",
       "    </tr>\n",
       "  </tbody>\n",
       "</table>\n",
       "</div>"
      ],
      "text/plain": [
       "      upload_id  average_speed  distance elapsed_time  total_elevation_gain  \\\n",
       "0  1.919166e+09          3.238    4429.7      0:37:28                  31.0   \n",
       "\n",
       "  type     start_date_local      start_latlng       end_latlng  \\\n",
       "0  Run  2018-08-21T12:21:27  (47.61, -122.35)  (47.6, -122.33)   \n",
       "\n",
       "                                                 map  miles_converted  \\\n",
       "0  {'id': 'a1788404266', 'polyline': None, 'summa...         2.752488   \n",
       "\n",
       "   distance_away  \n",
       "0      17.762133  "
      ]
     },
     "execution_count": 28,
     "metadata": {},
     "output_type": "execute_result"
    }
   ],
   "source": [
    "df_starts.head(1)"
   ]
  },
  {
   "cell_type": "code",
   "execution_count": 29,
   "metadata": {},
   "outputs": [],
   "source": [
    "def standardize_inputs(user_input, df):\n",
    "    '''Standardize the user inputs for cosine similarity'''\n",
    "    elevation = user_input[0]\n",
    "    distance = user_input[1]\n",
    "    std_elevation = (elevation - df['total_elevation_gain'].mean())/df['total_elevation_gain'].std()\n",
    "    std_distance = (distance - df['miles_converted'].mean())/df['miles_converted'].std()\n",
    "    return np.array([std_elevation,std_distance])"
   ]
  },
  {
   "cell_type": "code",
   "execution_count": 32,
   "metadata": {},
   "outputs": [],
   "source": [
    "def recommend_runs(request, dist, df):\n",
    "    '''Inputs are a list of user-specified elevation gain in meters and miles to run, \n",
    "    dataframe of activities, and the columns of the dataframe to check \n",
    "    for cosine similarity. Columns to check should be in standardized form.  \n",
    "    Output is a dictionary of polyline maps for route recommendations.'''\n",
    "    df = df.copy()\n",
    "    #requires sklearn.cosine_similarity\n",
    "    df = df[df['distance_away']<= dist] #filter dataframe for the requested distance range\n",
    "    df.loc[:, 'elevation_std'] = scale(df['total_elevation_gain'].values.reshape(-1, 1))\n",
    "    df.loc[:, 'miles_std'] = scale(df['miles_converted'].values.reshape(-1, 1))\n",
    "    similarity_df = df.loc[:, ['elevation_std', 'miles_std']]\n",
    "    user_input = standardize_inputs(request, df)\n",
    "    user_input = user_input.reshape(1,2)\n",
    "    user_input_reshaped = user_input.reshape(1,-1)\n",
    "    similarities = cosine_similarity(similarity_df, user_input_reshaped)\n",
    "    sort_indices = np.argsort(similarities, axis = None)\n",
    "    top_20 = sort_indices[-20:]\n",
    "    recommend_indices = list(top_20[::-1]) #reverse the order\n",
    "    recommendations = df.iloc[recommend_indices, :]\n",
    "    return dict(recommendations['map']), recommend_indices"
   ]
  },
  {
   "cell_type": "markdown",
   "metadata": {},
   "source": [
    "### Get a dataframe of Recommendations Here"
   ]
  },
  {
   "cell_type": "code",
   "execution_count": 38,
   "metadata": {},
   "outputs": [],
   "source": [
    "recommend_dict, recommend_indices = recommend_runs([100, 5], 3, df_starts)"
   ]
  },
  {
   "cell_type": "code",
   "execution_count": 39,
   "metadata": {},
   "outputs": [
    {
     "data": {
      "text/plain": [
       "[328,\n",
       " 255,\n",
       " 402,\n",
       " 299,\n",
       " 156,\n",
       " 28,\n",
       " 166,\n",
       " 416,\n",
       " 40,\n",
       " 1,\n",
       " 296,\n",
       " 334,\n",
       " 290,\n",
       " 179,\n",
       " 301,\n",
       " 370,\n",
       " 294,\n",
       " 308,\n",
       " 171,\n",
       " 400]"
      ]
     },
     "execution_count": 39,
     "metadata": {},
     "output_type": "execute_result"
    }
   ],
   "source": [
    "recommend_indices"
   ]
  },
  {
   "cell_type": "code",
   "execution_count": null,
   "metadata": {},
   "outputs": [],
   "source": [
    "def make_polyline_dict(recommend_dict):\n",
    "    '''Take in a dictionary of map objects and return dictionary of polylines{index:polyline} and the indices\n",
    "    for the polylines as a list.'''\n",
    "    polylines = {}\n",
    "    for k, v in recommend_dict.items():\n",
    "        v = ast.literal_eval(v)\n",
    "        if v['summary_polyline'] != None: #make sure the polyline list isn't empty\n",
    "            polylines[k] = v['summary_polyline']\n",
    "    indices = list(polylines.keys())\n",
    "    return polylines, indices"
   ]
  },
  {
   "cell_type": "code",
   "execution_count": null,
   "metadata": {},
   "outputs": [],
   "source": [
    "polylines,indices = make_polyline_dict(recommend_dict)"
   ]
  },
  {
   "cell_type": "code",
   "execution_count": null,
   "metadata": {},
   "outputs": [],
   "source": [
    "indices  #use these to later go back into dataframe for run stats"
   ]
  },
  {
   "cell_type": "code",
   "execution_count": null,
   "metadata": {},
   "outputs": [],
   "source": [
    "#get coordinates for the polylines in the list\n",
    "map_coordinates = []\n",
    "for line in list(polylines.values()):\n",
    "    coordinates = polyline.decode(line)\n",
    "    map_coordinates.append(coordinates)"
   ]
  },
  {
   "cell_type": "code",
   "execution_count": null,
   "metadata": {},
   "outputs": [],
   "source": [
    "def find_centroids(coordinate_lst):\n",
    "    centroids = []\n",
    "    for l in coordinate_lst:\n",
    "        lats = []\n",
    "        longs = []\n",
    "        for point in l:\n",
    "            lats.append(point[0])\n",
    "            longs.append(point[1])\n",
    "        centroid = (round(np.mean(lats), 3), round(np.mean(longs), 3))\n",
    "        centroids.append(centroid)\n",
    "    return centroids"
   ]
  },
  {
   "cell_type": "code",
   "execution_count": null,
   "metadata": {},
   "outputs": [],
   "source": [
    "def make_comparison_df(coordinate_lst, df, indices):\n",
    "    centroids = find_centroids(coordinate_lst)\n",
    "    lats = []\n",
    "    longs = []\n",
    "    elevation_lst = []\n",
    "    for c in centroids:\n",
    "        lats.append(c[0])\n",
    "        longs.append(c[1])\n",
    "    for idx in indices: #get the elevation for the runs in the suggestion list.\n",
    "        row = df.loc[idx] \n",
    "        elevation_lst.append(row['total_elevation_gain'])\n",
    "    comparison_df = pd.DataFrame({'lats': lats, 'longs':longs, 'elevation':elevation_lst})\n",
    "    return comparison_df"
   ]
  },
  {
   "cell_type": "code",
   "execution_count": null,
   "metadata": {},
   "outputs": [],
   "source": [
    "comparison_df = make_comparison_df(map_coordinates, working_df, indices)"
   ]
  },
  {
   "cell_type": "code",
   "execution_count": null,
   "metadata": {},
   "outputs": [],
   "source": [
    "comparison_array = comparison_df.values\n",
    "comparison_array_std = (comparison_array - np.mean(comparison_array, axis=0)) / np.std(comparison_array, axis=0)\n",
    "#make comparisons with all the datapoints in the comparison array\n",
    "cosine_sim_arr = cosine_similarity(comparison_array_std)"
   ]
  },
  {
   "cell_type": "code",
   "execution_count": null,
   "metadata": {},
   "outputs": [],
   "source": [
    "threshold = 0.05\n",
    "Z = hierarchy.linkage(cosine_sim_arr, 'average', metric=\"cosine\")\n",
    "C = hierarchy.fcluster(Z, threshold, criterion=\"distance\")\n",
    "ids = list(range(20)) #make a list of numbers 0-19 to use as indices for a cluster groups dictionary\n",
    "C"
   ]
  },
  {
   "cell_type": "code",
   "execution_count": null,
   "metadata": {},
   "outputs": [],
   "source": [
    "cluster_groups = defaultdict(list)\n",
    "for idx, grouping in enumerate(C):\n",
    "    cluster_groups[grouping].append(idx)"
   ]
  },
  {
   "cell_type": "code",
   "execution_count": null,
   "metadata": {},
   "outputs": [],
   "source": [
    "def get_indices(groups):\n",
    "    '''Takes in dictionary of cluster_groupings and returns a list of indices\n",
    "    to use for route suggestions'''\n",
    "    sort_groups = sorted(list(groups.values()), key=len)\n",
    "    sort_groups = sort_groups[::-1]\n",
    "    indices_to_use = []\n",
    "    for group in sort_groups:\n",
    "        if len(group) >= 1:\n",
    "            indices_to_use.append(group[0])\n",
    "    return indices_to_use"
   ]
  },
  {
   "cell_type": "code",
   "execution_count": null,
   "metadata": {},
   "outputs": [],
   "source": [
    "indices_to_use = get_indices(cluster_groups)\n",
    "indices_to_use"
   ]
  },
  {
   "cell_type": "code",
   "execution_count": null,
   "metadata": {},
   "outputs": [],
   "source": []
  },
  {
   "cell_type": "code",
   "execution_count": null,
   "metadata": {},
   "outputs": [],
   "source": [
    "def map_indices(indices_to_use, indices):\n",
    "    '''Takes in indices_to_use from 20 suggested routes and the actual indices of the 20 routes in the larger\n",
    "    dataframe and returns a mapping of indices_to_use back to the index in the larger dataframe. \n",
    "    Use: to retrieve stats for suggested routes'''\n",
    "    mapping = {}\n",
    "    for idx, i in enumerate(indices):\n",
    "        if idx in indices_to_use:\n",
    "            mapping[idx] = i\n",
    "    return mapping\n",
    "        "
   ]
  },
  {
   "cell_type": "code",
   "execution_count": null,
   "metadata": {},
   "outputs": [],
   "source": [
    "mapping_dict = map_indices(indices_to_use, indices)\n"
   ]
  },
  {
   "cell_type": "code",
   "execution_count": null,
   "metadata": {},
   "outputs": [],
   "source": [
    "mapping_dict"
   ]
  },
  {
   "cell_type": "code",
   "execution_count": null,
   "metadata": {},
   "outputs": [],
   "source": []
  },
  {
   "cell_type": "code",
   "execution_count": null,
   "metadata": {},
   "outputs": [],
   "source": [
    "def return_route_stats(mapping_dict, indices_to_use, df):\n",
    "    '''Returns the elevation gain and miles for the routes that will be returned'''\n",
    "    mapping = [mapping_dict[i] for i in indices_to_use[0:5]]\n",
    "    slice_df = df.iloc[mapping]\n",
    "    return slice_df.loc[:, ['total_elevation_gain', 'miles_converted']].reset_index()\n",
    "        "
   ]
  },
  {
   "cell_type": "code",
   "execution_count": null,
   "metadata": {},
   "outputs": [],
   "source": [
    "return_route_stats(mapping_dict, indices_to_use, df)"
   ]
  },
  {
   "cell_type": "code",
   "execution_count": null,
   "metadata": {},
   "outputs": [],
   "source": [
    "unique_coordinates = [map_coordinates[i] for i in indices_to_use]"
   ]
  },
  {
   "cell_type": "code",
   "execution_count": null,
   "metadata": {},
   "outputs": [],
   "source": [
    "lat, long = map_coordinates[0][0]\n",
    "m = folium.Map(location=[lat, long], zoom_start=12.2)"
   ]
  },
  {
   "cell_type": "code",
   "execution_count": null,
   "metadata": {},
   "outputs": [],
   "source": [
    "for idx, route in enumerate(unique_coordinates[0:5]):\n",
    "    colors = ['blue','green','red','orange','purple']\n",
    "    folium.PolyLine(\n",
    "            route,\n",
    "            weight=2,\n",
    "            color=colors[idx]\n",
    "        ).add_to(m)"
   ]
  },
  {
   "cell_type": "code",
   "execution_count": null,
   "metadata": {},
   "outputs": [],
   "source": [
    "legend_html = '''<div style= \"position: fixed; \n",
    "     bottom: 50px; left: 50px; width: 100px; height: 180px; \n",
    "     border:2px solid grey; z-index:9999; font-size:14px;\n",
    "     \">&nbsp; Routes <br>\n",
    "     &nbsp; Route_0 &nbsp; <i class=\"fa fa-square fa-2x\"\n",
    "                  style=\"color:blue\"></i><br>\n",
    "     &nbsp; Route_1 &nbsp; <i class=\"fa fa-square fa-2x\"\n",
    "                  style=\"color:green\"></i>\n",
    "     &nbsp; Route_2 &nbsp; <i class=\"fa fa-square fa-2x\"\n",
    "                  style=\"color:red\"></i><br>\n",
    "     &nbsp; Route_3 &nbsp; <i class=\"fa fa-square fa-2x\"\n",
    "                  style=\"color:orange\"></i>\n",
    "     &nbsp; Route_4 &nbsp; <i class=\"fa fa-square fa-2x\"\n",
    "                  style=\"color:purple\"></i>\n",
    "    </div>'''\n",
    "    \n",
    "m.get_root().html.add_child(folium.Element(legend_html))"
   ]
  },
  {
   "cell_type": "code",
   "execution_count": null,
   "metadata": {},
   "outputs": [],
   "source": [
    "\n",
    "m"
   ]
  },
  {
   "cell_type": "code",
   "execution_count": null,
   "metadata": {},
   "outputs": [],
   "source": []
  },
  {
   "cell_type": "code",
   "execution_count": null,
   "metadata": {},
   "outputs": [],
   "source": []
  }
 ],
 "metadata": {
  "kernelspec": {
   "display_name": "Python 3",
   "language": "python",
   "name": "python3"
  },
  "language_info": {
   "codemirror_mode": {
    "name": "ipython",
    "version": 3
   },
   "file_extension": ".py",
   "mimetype": "text/x-python",
   "name": "python",
   "nbconvert_exporter": "python",
   "pygments_lexer": "ipython3",
   "version": "3.6.6"
  }
 },
 "nbformat": 4,
 "nbformat_minor": 2
}
