{
 "cells": [
  {
   "cell_type": "code",
   "execution_count": 69,
   "metadata": {},
   "outputs": [],
   "source": [
    "from stravalib.client import Client\n",
    "from stravalib import model\n",
    "import json\n",
    "import pandas as pd\n",
    "import numpy as np\n",
    "import polyline\n",
    "import gpxpy\n",
    "import folium\n",
    "import ast\n",
    "from collections import defaultdict, Counter\n",
    "from pymongo import MongoClient\n",
    "from math import radians, cos, sin, asin, sqrt\n",
    "from sklearn.metrics.pairwise import cosine_similarity\n",
    "from sklearn.preprocessing import scale\n",
    "from math import radians, cos, sin, asin, sqrt"
   ]
  },
  {
   "cell_type": "code",
   "execution_count": 3,
   "metadata": {},
   "outputs": [],
   "source": [
    "df = pd.read_csv('run_data_11-27-2018.csv')"
   ]
  },
  {
   "cell_type": "code",
   "execution_count": 15,
   "metadata": {},
   "outputs": [],
   "source": [
    "df = df.iloc[:,1::]"
   ]
  },
  {
   "cell_type": "code",
   "execution_count": 18,
   "metadata": {},
   "outputs": [],
   "source": [
    "def haversine(lat1, lon1, lat2, lon2):\n",
    "    \"\"\"\n",
    "    Calculate the great circle distance between two points \n",
    "    on the earth (specified in decimal degrees)\n",
    "    paraphrased from \n",
    "    https://stackoverflow.com/questions/4913349/haversine-formula-in-python-bearing-and-distance-between-two-gps-points\n",
    "    \"\"\"\n",
    "    # convert decimal degrees to radians \n",
    "    lon1, lat1, lon2, lat2 = map(radians, [lon1, lat1, lon2, lat2])\n",
    "\n",
    "    # haversine formula \n",
    "    dlon = lon2 - lon1 \n",
    "    dlat = lat2 - lat1 \n",
    "    a = sin(dlat/2)**2 + cos(lat1) * cos(lat2) * sin(dlon/2)**2\n",
    "    c = 2 * asin(sqrt(a)) \n",
    "    r = 6371 # Radius of earth in kilometers. Use 3956 for miles\n",
    "    return c * r"
   ]
  },
  {
   "cell_type": "code",
   "execution_count": 19,
   "metadata": {},
   "outputs": [],
   "source": [
    "def find_distances(coordinate1, coordinate2):\n",
    "    lat1, lon1 = coordinate1\n",
    "    lat2, lon2 = coordinate2\n",
    "    distance = haversine(lat1, lon1, lat2, lon2)\n",
    "    return distance\n"
   ]
  },
  {
   "cell_type": "code",
   "execution_count": 20,
   "metadata": {},
   "outputs": [],
   "source": [
    "def make_floats(tup):\n",
    "    x, y = tup\n",
    "    return (float(x), float(y))"
   ]
  },
  {
   "cell_type": "code",
   "execution_count": 21,
   "metadata": {},
   "outputs": [],
   "source": [
    "def get_distances(df, start):\n",
    "    '''Takes in a dataframe of activities and returns a dataframe with start and end latlng as tuples with floats.\n",
    "    Also returns the distance away from a starting point input.'''\n",
    "    df_starts = df[(~df['start_latlng'].isna()) & (~df['end_latlng'].isna())]\n",
    "    df_starts['start_latlng'] = df_starts['start_latlng'].apply(lambda x: x.split(\",\"))\n",
    "    df_starts['start_latlng'] = df_starts['start_latlng'].apply(lambda x: tuple(x))\n",
    "    df_starts['start_latlng'] = df_starts['start_latlng'].apply(lambda x: make_floats(x))\n",
    "    df_starts['end_latlng'] = df_starts['end_latlng'].apply(lambda x: x.split(\",\"))\n",
    "    df_starts['end_latlng'] = df_starts['end_latlng'].apply(lambda x: tuple(x))\n",
    "    df_starts['end_latlng'] = df_starts['end_latlng'].apply(lambda x: make_floats(x))\n",
    "    df_starts['distance_away'] = df_starts['start_latlng'].apply(lambda x: find_distances(start, x))\n",
    "    return df_starts\n",
    "    "
   ]
  },
  {
   "cell_type": "markdown",
   "metadata": {},
   "source": [
    "### Start Here With Your Location"
   ]
  },
  {
   "cell_type": "code",
   "execution_count": 400,
   "metadata": {},
   "outputs": [],
   "source": [
    "start = (47.529832, -121.987695)"
   ]
  },
  {
   "cell_type": "code",
   "execution_count": 401,
   "metadata": {},
   "outputs": [
    {
     "name": "stderr",
     "output_type": "stream",
     "text": [
      "/anaconda3/lib/python3.6/site-packages/ipykernel_launcher.py:5: SettingWithCopyWarning: \n",
      "A value is trying to be set on a copy of a slice from a DataFrame.\n",
      "Try using .loc[row_indexer,col_indexer] = value instead\n",
      "\n",
      "See the caveats in the documentation: http://pandas.pydata.org/pandas-docs/stable/indexing.html#indexing-view-versus-copy\n",
      "  \"\"\"\n",
      "/anaconda3/lib/python3.6/site-packages/ipykernel_launcher.py:6: SettingWithCopyWarning: \n",
      "A value is trying to be set on a copy of a slice from a DataFrame.\n",
      "Try using .loc[row_indexer,col_indexer] = value instead\n",
      "\n",
      "See the caveats in the documentation: http://pandas.pydata.org/pandas-docs/stable/indexing.html#indexing-view-versus-copy\n",
      "  \n",
      "/anaconda3/lib/python3.6/site-packages/ipykernel_launcher.py:7: SettingWithCopyWarning: \n",
      "A value is trying to be set on a copy of a slice from a DataFrame.\n",
      "Try using .loc[row_indexer,col_indexer] = value instead\n",
      "\n",
      "See the caveats in the documentation: http://pandas.pydata.org/pandas-docs/stable/indexing.html#indexing-view-versus-copy\n",
      "  import sys\n",
      "/anaconda3/lib/python3.6/site-packages/ipykernel_launcher.py:8: SettingWithCopyWarning: \n",
      "A value is trying to be set on a copy of a slice from a DataFrame.\n",
      "Try using .loc[row_indexer,col_indexer] = value instead\n",
      "\n",
      "See the caveats in the documentation: http://pandas.pydata.org/pandas-docs/stable/indexing.html#indexing-view-versus-copy\n",
      "  \n",
      "/anaconda3/lib/python3.6/site-packages/ipykernel_launcher.py:9: SettingWithCopyWarning: \n",
      "A value is trying to be set on a copy of a slice from a DataFrame.\n",
      "Try using .loc[row_indexer,col_indexer] = value instead\n",
      "\n",
      "See the caveats in the documentation: http://pandas.pydata.org/pandas-docs/stable/indexing.html#indexing-view-versus-copy\n",
      "  if __name__ == '__main__':\n",
      "/anaconda3/lib/python3.6/site-packages/ipykernel_launcher.py:10: SettingWithCopyWarning: \n",
      "A value is trying to be set on a copy of a slice from a DataFrame.\n",
      "Try using .loc[row_indexer,col_indexer] = value instead\n",
      "\n",
      "See the caveats in the documentation: http://pandas.pydata.org/pandas-docs/stable/indexing.html#indexing-view-versus-copy\n",
      "  # Remove the CWD from sys.path while we load stuff.\n",
      "/anaconda3/lib/python3.6/site-packages/ipykernel_launcher.py:11: SettingWithCopyWarning: \n",
      "A value is trying to be set on a copy of a slice from a DataFrame.\n",
      "Try using .loc[row_indexer,col_indexer] = value instead\n",
      "\n",
      "See the caveats in the documentation: http://pandas.pydata.org/pandas-docs/stable/indexing.html#indexing-view-versus-copy\n",
      "  # This is added back by InteractiveShellApp.init_path()\n"
     ]
    }
   ],
   "source": [
    "df_starts = get_distances(df, start)"
   ]
  },
  {
   "cell_type": "code",
   "execution_count": 402,
   "metadata": {},
   "outputs": [],
   "source": [
    "working_df = df_starts[df_starts['distance_away']<= 3]"
   ]
  },
  {
   "cell_type": "code",
   "execution_count": null,
   "metadata": {},
   "outputs": [],
   "source": []
  },
  {
   "cell_type": "code",
   "execution_count": 28,
   "metadata": {},
   "outputs": [],
   "source": [
    "def standardize_inputs(user_input, df):\n",
    "    '''Standardize the user inputs for cosine similarity'''\n",
    "    elevation = user_input[0]\n",
    "    distance = user_input[1]\n",
    "    std_elevation = (elevation - df['total_elevation_gain'].mean())/df['total_elevation_gain'].std()\n",
    "    std_distance = (distance - df['miles_converted'].mean())/df['miles_converted'].std()\n",
    "    return np.array([std_elevation,std_distance])"
   ]
  },
  {
   "cell_type": "code",
   "execution_count": 441,
   "metadata": {},
   "outputs": [],
   "source": [
    "def recommend_runs(request, df, columns_to_check):\n",
    "    '''Inputs are a list of user-specified elevation gain in meters and miles to run, \n",
    "    dataframe of activities, and the columns of the dataframe to check \n",
    "    for cosine similarity. Columns to check should be in standardized form.  \n",
    "    Output is a dictionary of polyline maps for route recommendations.'''\n",
    "    \n",
    "    #requires sklearn.cosine_similarity\n",
    "    \n",
    "    df['elevation_std'] = scale(df['total_elevation_gain'])\n",
    "    df['miles_std'] = scale(df['miles_converted'])\n",
    "    similarity_df = df.loc[:, columns_to_check]\n",
    "    user_input = standardize_inputs(request, df)\n",
    "    user_input = user_input.reshape(1,len(columns_to_check))\n",
    "    user_input_reshaped = user_input.reshape(1,-1)\n",
    "    similarities = cosine_similarity(similarity_df, user_input_reshaped)\n",
    "    sort_indices = np.argsort(similarities, axis = None)\n",
    "    top_20 = sort_indices[-20:]\n",
    "    recommend_indices = list(top_20[::-1]) #reverse the order\n",
    "    recommendations = df.iloc[recommend_indices, :]\n",
    "    return dict(recommendations['map']), recommend_indices"
   ]
  },
  {
   "cell_type": "code",
   "execution_count": null,
   "metadata": {},
   "outputs": [],
   "source": []
  },
  {
   "cell_type": "markdown",
   "metadata": {},
   "source": [
    "### Get a dataframe of Recommendations Here"
   ]
  },
  {
   "cell_type": "code",
   "execution_count": 442,
   "metadata": {},
   "outputs": [
    {
     "name": "stderr",
     "output_type": "stream",
     "text": [
      "/anaconda3/lib/python3.6/site-packages/ipykernel_launcher.py:9: SettingWithCopyWarning: \n",
      "A value is trying to be set on a copy of a slice from a DataFrame.\n",
      "Try using .loc[row_indexer,col_indexer] = value instead\n",
      "\n",
      "See the caveats in the documentation: http://pandas.pydata.org/pandas-docs/stable/indexing.html#indexing-view-versus-copy\n",
      "  if __name__ == '__main__':\n",
      "/anaconda3/lib/python3.6/site-packages/ipykernel_launcher.py:10: SettingWithCopyWarning: \n",
      "A value is trying to be set on a copy of a slice from a DataFrame.\n",
      "Try using .loc[row_indexer,col_indexer] = value instead\n",
      "\n",
      "See the caveats in the documentation: http://pandas.pydata.org/pandas-docs/stable/indexing.html#indexing-view-versus-copy\n",
      "  # Remove the CWD from sys.path while we load stuff.\n"
     ]
    }
   ],
   "source": [
    "recommend_dict, recommend_indices = recommend_runs([100, 5], working_df , ['elevation_std', 'miles_std'])"
   ]
  },
  {
   "cell_type": "code",
   "execution_count": 405,
   "metadata": {},
   "outputs": [],
   "source": [
    "def make_polyline_lst(recommend_dict):\n",
    "    '''Take in a dictionary of map objects and return dictionary of polylines{index:polyline} and the indices\n",
    "    for the polylines as a list.'''\n",
    "    polylines = {}\n",
    "    for k, v in recommend_dict.items():\n",
    "        v = ast.literal_eval(v)\n",
    "        if v['summary_polyline'] != None: #make sure the polyline list isn't empty\n",
    "            polylines[k] = v['summary_polyline']\n",
    "    indices = list(polylines.keys())\n",
    "    return polylines, indices"
   ]
  },
  {
   "cell_type": "code",
   "execution_count": 406,
   "metadata": {},
   "outputs": [],
   "source": [
    "polylines,indices = make_polyline_lst(recommend_dict)"
   ]
  },
  {
   "cell_type": "code",
   "execution_count": 407,
   "metadata": {},
   "outputs": [],
   "source": [
    "#get coordinates for the polylines in the list\n",
    "map_coordinates = []\n",
    "for line in list(polylines.values()):\n",
    "    coordinates = polyline.decode(line)\n",
    "    map_coordinates.append(coordinates)"
   ]
  },
  {
   "cell_type": "code",
   "execution_count": 27,
   "metadata": {},
   "outputs": [],
   "source": [
    "def find_centroids(coordinate_lst):\n",
    "    centroids = []\n",
    "    for l in coordinate_lst:\n",
    "        lats = []\n",
    "        longs = []\n",
    "        for point in l:\n",
    "            lats.append(point[0])\n",
    "            longs.append(point[1])\n",
    "        centroid = (round(np.mean(lats), 3), round(np.mean(longs), 3))\n",
    "        centroids.append(centroid)\n",
    "    return centroids"
   ]
  },
  {
   "cell_type": "code",
   "execution_count": 113,
   "metadata": {},
   "outputs": [],
   "source": [
    "def make_comparison_df(coordinate_lst, df, indices):\n",
    "    centroids = find_centroids(coordinate_lst)\n",
    "    lats = []\n",
    "    longs = []\n",
    "    elevation_lst = []\n",
    "    for c in centroids:\n",
    "        lats.append(c[0])\n",
    "        longs.append(c[1])\n",
    "    for idx in indices: #get the elevation for the runs in the suggestion list.\n",
    "        row = df.loc[idx] \n",
    "        elevation_lst.append(row['total_elevation_gain'])\n",
    "    comparison_df = pd.DataFrame({'lats': lats, 'longs':longs, 'elevation':elevation_lst})\n",
    "    return comparison_df"
   ]
  },
  {
   "cell_type": "code",
   "execution_count": 408,
   "metadata": {},
   "outputs": [],
   "source": [
    "comparison_df = make_comparison_df(map_coordinates, working_df, indices)"
   ]
  },
  {
   "cell_type": "code",
   "execution_count": 361,
   "metadata": {},
   "outputs": [],
   "source": [
    "from scipy.cluster import  hierarchy"
   ]
  },
  {
   "cell_type": "code",
   "execution_count": 409,
   "metadata": {},
   "outputs": [],
   "source": [
    "comparison_array = comparison_df.values\n",
    "comparison_array_std = (comparison_array - np.mean(comparison_array, axis=0)) / np.std(comparison_array, axis=0)\n",
    "#make comparisons with all the datapoints in the comparison array\n",
    "cosine_sim_arr = cosine_similarity(comparison_array_std)"
   ]
  },
  {
   "cell_type": "code",
   "execution_count": 410,
   "metadata": {},
   "outputs": [],
   "source": [
    "threshold = 0.1\n",
    "Z = hierarchy.linkage(cosine_sim_arr, 'average', metric=\"cosine\")\n",
    "C = hierarchy.fcluster(Z, threshold, criterion=\"distance\")\n",
    "ids = list(range(20)) #make a list of numbers 0-19 to use as indices for a cluster groups dictionary"
   ]
  },
  {
   "cell_type": "code",
   "execution_count": null,
   "metadata": {},
   "outputs": [],
   "source": [
    "cluster_groups = defaultdict(list)\n",
    "for idx, grouping in enumerate(C):\n",
    "    cluster_groups[grouping].append(idx)"
   ]
  },
  {
   "cell_type": "code",
   "execution_count": 411,
   "metadata": {},
   "outputs": [],
   "source": [
    "indices_to_use = []\n",
    "for value in cluster_groups.values():\n",
    "    indices_to_use.append(value[0])"
   ]
  },
  {
   "cell_type": "code",
   "execution_count": 354,
   "metadata": {},
   "outputs": [],
   "source": [
    "def get_indices(groups):\n",
    "    sort_groups = sorted(groups, key=len)\n",
    "    sort_groups = sort_groups[::-1]\n",
    "    indices_to_use = []\n",
    "    for group in sort_groups:\n",
    "        group = list(group)\n",
    "        indices_to_use.append(group[0])\n",
    "    return indices_to_use"
   ]
  },
  {
   "cell_type": "code",
   "execution_count": 412,
   "metadata": {},
   "outputs": [
    {
     "data": {
      "text/plain": [
       "[0, 2, 3, 4, 5, 15, 18, 19]"
      ]
     },
     "execution_count": 412,
     "metadata": {},
     "output_type": "execute_result"
    }
   ],
   "source": [
    "indices_to_use"
   ]
  },
  {
   "cell_type": "code",
   "execution_count": 384,
   "metadata": {},
   "outputs": [],
   "source": []
  },
  {
   "cell_type": "code",
   "execution_count": 413,
   "metadata": {},
   "outputs": [],
   "source": [
    "unique_coordinates = [map_coordinates[i] for i in indices_to_use]"
   ]
  },
  {
   "cell_type": "code",
   "execution_count": 414,
   "metadata": {},
   "outputs": [],
   "source": [
    "lat, long = map_coordinates[0][0]\n",
    "m = folium.Map(location=[lat, long], zoom_start=12.2)"
   ]
  },
  {
   "cell_type": "code",
   "execution_count": 415,
   "metadata": {},
   "outputs": [],
   "source": [
    "for idx, route in enumerate(unique_coordinates[0:5]):\n",
    "    colors = ['blue','green','red','orange','purple']\n",
    "    folium.PolyLine(\n",
    "            route,\n",
    "            weight=2,\n",
    "            color=colors[idx]\n",
    "        ).add_to(m)"
   ]
  },
  {
   "cell_type": "code",
   "execution_count": 433,
   "metadata": {},
   "outputs": [],
   "source": [
    "from html import parser\n"
   ]
  },
  {
   "cell_type": "code",
   "execution_count": 434,
   "metadata": {},
   "outputs": [],
   "source": [
    "parser = parser.HTMLParser()"
   ]
  },
  {
   "cell_type": "code",
   "execution_count": 438,
   "metadata": {},
   "outputs": [
    {
     "data": {
      "text/plain": [
       "<branca.element.Element at 0x1a19ec0160>"
      ]
     },
     "execution_count": 438,
     "metadata": {},
     "output_type": "execute_result"
    }
   ],
   "source": [
    "legend_html = parser.feed(\n",
    "     '''<div style= ”position: fixed; \n",
    "     bottom: 50px; left: 50px; width: 100px; height: 90px; \n",
    "     border:2px solid grey; z-index:9999; font-size:14px;\n",
    "     “>&nbsp; Routes <br>\n",
    "     &nbsp; Route_1 &nbsp; <i class=”fa fa-map-marker fa-2x”\n",
    "                  style=”color:blue”></i><br>\n",
    "     &nbsp; Route_2 &nbsp; <i class=”fa fa-map-marker fa-2x”\n",
    "                  style=”color:green”></i>\n",
    "     &nbsp; Route_3 &nbsp; <i class=”fa fa-map-marker fa-2x”\n",
    "                  style=”color:red”></i><br>\n",
    "     &nbsp; Route_4 &nbsp; <i class=”fa fa-map-marker fa-2x”\n",
    "                  style=”color:orange”></i>\n",
    "     &nbsp; Route_4 &nbsp; <i class=”fa fa-map-marker fa-2x”\n",
    "                  style=”color:purple”></i>\n",
    "    </div>''')\n",
    "    \n",
    "m.get_root().html.add_child(folium.Element(legend_html))"
   ]
  },
  {
   "cell_type": "code",
   "execution_count": 439,
   "metadata": {},
   "outputs": [
    {
     "data": {
      "text/html": [
       "<div style=\"width:100%;\"><div style=\"position:relative;width:100%;height:0;padding-bottom:60%;\"><iframe src=\"data:text/html;charset=utf-8;base64,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\" style=\"position:absolute;width:100%;height:100%;left:0;top:0;border:none !important;\" allowfullscreen webkitallowfullscreen mozallowfullscreen></iframe></div></div>"
      ],
      "text/plain": [
       "<folium.folium.Map at 0x1a1974fc18>"
      ]
     },
     "execution_count": 439,
     "metadata": {},
     "output_type": "execute_result"
    }
   ],
   "source": [
    "m.get_root().html.add_child(folium.Element(legend_html))\n",
    "m"
   ]
  },
  {
   "cell_type": "code",
   "execution_count": null,
   "metadata": {},
   "outputs": [],
   "source": []
  },
  {
   "cell_type": "code",
   "execution_count": null,
   "metadata": {},
   "outputs": [],
   "source": []
  }
 ],
 "metadata": {
  "kernelspec": {
   "display_name": "Python 3",
   "language": "python",
   "name": "python3"
  },
  "language_info": {
   "codemirror_mode": {
    "name": "ipython",
    "version": 3
   },
   "file_extension": ".py",
   "mimetype": "text/x-python",
   "name": "python",
   "nbconvert_exporter": "python",
   "pygments_lexer": "ipython3",
   "version": "3.6.6"
  }
 },
 "nbformat": 4,
 "nbformat_minor": 2
}
