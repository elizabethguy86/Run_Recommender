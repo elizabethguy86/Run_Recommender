{
 "cells": [
  {
   "cell_type": "code",
   "execution_count": 69,
   "metadata": {},
   "outputs": [],
   "source": [
    "from stravalib.client import Client\n",
    "from stravalib import model\n",
    "import json\n",
    "import pandas as pd\n",
    "import numpy as np\n",
    "import polyline\n",
    "import gpxpy\n",
    "import folium\n",
    "import ast\n",
    "from collections import defaultdict, Counter\n",
    "from pymongo import MongoClient\n",
    "from math import radians, cos, sin, asin, sqrt\n",
    "from sklearn.metrics.pairwise import cosine_similarity\n",
    "from sklearn.preprocessing import scale\n",
    "from math import radians, cos, sin, asin, sqrt"
   ]
  },
  {
   "cell_type": "code",
   "execution_count": 3,
   "metadata": {},
   "outputs": [],
   "source": [
    "df = pd.read_csv('run_data_11-27-2018.csv')"
   ]
  },
  {
   "cell_type": "code",
   "execution_count": 15,
   "metadata": {},
   "outputs": [],
   "source": [
    "df = df.iloc[:,1::]"
   ]
  },
  {
   "cell_type": "code",
   "execution_count": 18,
   "metadata": {},
   "outputs": [],
   "source": [
    "def haversine(lat1, lon1, lat2, lon2):\n",
    "    \"\"\"\n",
    "    Calculate the great circle distance between two points \n",
    "    on the earth (specified in decimal degrees)\n",
    "    paraphrased from \n",
    "    https://stackoverflow.com/questions/4913349/haversine-formula-in-python-bearing-and-distance-between-two-gps-points\n",
    "    \"\"\"\n",
    "    # convert decimal degrees to radians \n",
    "    lon1, lat1, lon2, lat2 = map(radians, [lon1, lat1, lon2, lat2])\n",
    "\n",
    "    # haversine formula \n",
    "    dlon = lon2 - lon1 \n",
    "    dlat = lat2 - lat1 \n",
    "    a = sin(dlat/2)**2 + cos(lat1) * cos(lat2) * sin(dlon/2)**2\n",
    "    c = 2 * asin(sqrt(a)) \n",
    "    r = 6371 # Radius of earth in kilometers. Use 3956 for miles\n",
    "    return c * r"
   ]
  },
  {
   "cell_type": "code",
   "execution_count": 19,
   "metadata": {},
   "outputs": [],
   "source": [
    "def find_distances(coordinate1, coordinate2):\n",
    "    lat1, lon1 = coordinate1\n",
    "    lat2, lon2 = coordinate2\n",
    "    distance = haversine(lat1, lon1, lat2, lon2)\n",
    "    return distance\n"
   ]
  },
  {
   "cell_type": "code",
   "execution_count": 20,
   "metadata": {},
   "outputs": [],
   "source": [
    "def make_floats(tup):\n",
    "    x, y = tup\n",
    "    return (float(x), float(y))"
   ]
  },
  {
   "cell_type": "code",
   "execution_count": 21,
   "metadata": {},
   "outputs": [],
   "source": [
    "def get_distances(df, start):\n",
    "    '''Takes in a dataframe of activities and returns a dataframe with start and end latlng as tuples with floats.\n",
    "    Also returns the distance away from a starting point input.'''\n",
    "    df_starts = df[(~df['start_latlng'].isna()) & (~df['end_latlng'].isna())]\n",
    "    df_starts['start_latlng'] = df_starts['start_latlng'].apply(lambda x: x.split(\",\"))\n",
    "    df_starts['start_latlng'] = df_starts['start_latlng'].apply(lambda x: tuple(x))\n",
    "    df_starts['start_latlng'] = df_starts['start_latlng'].apply(lambda x: make_floats(x))\n",
    "    df_starts['end_latlng'] = df_starts['end_latlng'].apply(lambda x: x.split(\",\"))\n",
    "    df_starts['end_latlng'] = df_starts['end_latlng'].apply(lambda x: tuple(x))\n",
    "    df_starts['end_latlng'] = df_starts['end_latlng'].apply(lambda x: make_floats(x))\n",
    "    df_starts['distance_away'] = df_starts['start_latlng'].apply(lambda x: find_distances(start, x))\n",
    "    return df_starts\n",
    "    "
   ]
  },
  {
   "cell_type": "markdown",
   "metadata": {},
   "source": [
    "### Start Here With Your Location"
   ]
  },
  {
   "cell_type": "code",
   "execution_count": 400,
   "metadata": {},
   "outputs": [],
   "source": [
    "start = (47.529832, -121.987695)"
   ]
  },
  {
   "cell_type": "code",
   "execution_count": 401,
   "metadata": {},
   "outputs": [
    {
     "name": "stderr",
     "output_type": "stream",
     "text": [
      "/anaconda3/lib/python3.6/site-packages/ipykernel_launcher.py:5: SettingWithCopyWarning: \n",
      "A value is trying to be set on a copy of a slice from a DataFrame.\n",
      "Try using .loc[row_indexer,col_indexer] = value instead\n",
      "\n",
      "See the caveats in the documentation: http://pandas.pydata.org/pandas-docs/stable/indexing.html#indexing-view-versus-copy\n",
      "  \"\"\"\n",
      "/anaconda3/lib/python3.6/site-packages/ipykernel_launcher.py:6: SettingWithCopyWarning: \n",
      "A value is trying to be set on a copy of a slice from a DataFrame.\n",
      "Try using .loc[row_indexer,col_indexer] = value instead\n",
      "\n",
      "See the caveats in the documentation: http://pandas.pydata.org/pandas-docs/stable/indexing.html#indexing-view-versus-copy\n",
      "  \n",
      "/anaconda3/lib/python3.6/site-packages/ipykernel_launcher.py:7: SettingWithCopyWarning: \n",
      "A value is trying to be set on a copy of a slice from a DataFrame.\n",
      "Try using .loc[row_indexer,col_indexer] = value instead\n",
      "\n",
      "See the caveats in the documentation: http://pandas.pydata.org/pandas-docs/stable/indexing.html#indexing-view-versus-copy\n",
      "  import sys\n",
      "/anaconda3/lib/python3.6/site-packages/ipykernel_launcher.py:8: SettingWithCopyWarning: \n",
      "A value is trying to be set on a copy of a slice from a DataFrame.\n",
      "Try using .loc[row_indexer,col_indexer] = value instead\n",
      "\n",
      "See the caveats in the documentation: http://pandas.pydata.org/pandas-docs/stable/indexing.html#indexing-view-versus-copy\n",
      "  \n",
      "/anaconda3/lib/python3.6/site-packages/ipykernel_launcher.py:9: SettingWithCopyWarning: \n",
      "A value is trying to be set on a copy of a slice from a DataFrame.\n",
      "Try using .loc[row_indexer,col_indexer] = value instead\n",
      "\n",
      "See the caveats in the documentation: http://pandas.pydata.org/pandas-docs/stable/indexing.html#indexing-view-versus-copy\n",
      "  if __name__ == '__main__':\n",
      "/anaconda3/lib/python3.6/site-packages/ipykernel_launcher.py:10: SettingWithCopyWarning: \n",
      "A value is trying to be set on a copy of a slice from a DataFrame.\n",
      "Try using .loc[row_indexer,col_indexer] = value instead\n",
      "\n",
      "See the caveats in the documentation: http://pandas.pydata.org/pandas-docs/stable/indexing.html#indexing-view-versus-copy\n",
      "  # Remove the CWD from sys.path while we load stuff.\n",
      "/anaconda3/lib/python3.6/site-packages/ipykernel_launcher.py:11: SettingWithCopyWarning: \n",
      "A value is trying to be set on a copy of a slice from a DataFrame.\n",
      "Try using .loc[row_indexer,col_indexer] = value instead\n",
      "\n",
      "See the caveats in the documentation: http://pandas.pydata.org/pandas-docs/stable/indexing.html#indexing-view-versus-copy\n",
      "  # This is added back by InteractiveShellApp.init_path()\n"
     ]
    }
   ],
   "source": [
    "df_starts = get_distances(df, start)"
   ]
  },
  {
   "cell_type": "code",
   "execution_count": 402,
   "metadata": {},
   "outputs": [],
   "source": [
    "working_df = df_starts[df_starts['distance_away']<= 3]"
   ]
  },
  {
   "cell_type": "code",
   "execution_count": null,
   "metadata": {},
   "outputs": [],
   "source": []
  },
  {
   "cell_type": "code",
   "execution_count": 28,
   "metadata": {},
   "outputs": [],
   "source": [
    "def standardize_inputs(user_input, df):\n",
    "    '''Standardize the user inputs for cosine similarity'''\n",
    "    elevation = user_input[0]\n",
    "    distance = user_input[1]\n",
    "    std_elevation = (elevation - df['total_elevation_gain'].mean())/df['total_elevation_gain'].std()\n",
    "    std_distance = (distance - df['miles_converted'].mean())/df['miles_converted'].std()\n",
    "    return np.array([std_elevation,std_distance])"
   ]
  },
  {
   "cell_type": "code",
   "execution_count": 403,
   "metadata": {},
   "outputs": [],
   "source": [
    "def recommend_runs(request, df, columns_to_check):\n",
    "    '''Inputs are a list of user-specified elevation gain in meters and miles to run, \n",
    "    dataframe of activities, and the columns of the dataframe to check \n",
    "    for cosine similarity. Columns to check should be in standardized form.  \n",
    "    Output is a dictionary of polyline maps for route recommendations.'''\n",
    "    \n",
    "    #requires sklearn.cosine_similarity\n",
    "    \n",
    "    df['elevation_std'] = scale(df['total_elevation_gain'])\n",
    "    df['miles_std'] = scale(df['miles_converted'])\n",
    "    similarity_df = df.loc[:, columns_to_check]\n",
    "    user_input = standardize_inputs(request, df)\n",
    "    user_input = user_input.reshape(1,len(columns_to_check))\n",
    "    user_input_reshaped = user_input.reshape(1,-1)\n",
    "    similarities = cosine_similarity(similarity_df, user_input_reshaped)\n",
    "    sort_indices = np.argsort(similarities, axis = None)\n",
    "    top_20 = sort_indices[-20:]\n",
    "    recommend_indices = list(top_20[::-1]) #reverse the order\n",
    "    recommendations = df.iloc[recommend_indices, :]\n",
    "    return dict(recommendations['map'])"
   ]
  },
  {
   "cell_type": "code",
   "execution_count": null,
   "metadata": {},
   "outputs": [],
   "source": []
  },
  {
   "cell_type": "markdown",
   "metadata": {},
   "source": [
    "### Get a dataframe of Recommendations Here"
   ]
  },
  {
   "cell_type": "code",
   "execution_count": 404,
   "metadata": {},
   "outputs": [
    {
     "name": "stderr",
     "output_type": "stream",
     "text": [
      "/anaconda3/lib/python3.6/site-packages/ipykernel_launcher.py:9: SettingWithCopyWarning: \n",
      "A value is trying to be set on a copy of a slice from a DataFrame.\n",
      "Try using .loc[row_indexer,col_indexer] = value instead\n",
      "\n",
      "See the caveats in the documentation: http://pandas.pydata.org/pandas-docs/stable/indexing.html#indexing-view-versus-copy\n",
      "  if __name__ == '__main__':\n",
      "/anaconda3/lib/python3.6/site-packages/ipykernel_launcher.py:10: SettingWithCopyWarning: \n",
      "A value is trying to be set on a copy of a slice from a DataFrame.\n",
      "Try using .loc[row_indexer,col_indexer] = value instead\n",
      "\n",
      "See the caveats in the documentation: http://pandas.pydata.org/pandas-docs/stable/indexing.html#indexing-view-versus-copy\n",
      "  # Remove the CWD from sys.path while we load stuff.\n"
     ]
    }
   ],
   "source": [
    "recommend_dict = recommend_runs([100, 5], working_df , ['elevation_std', 'miles_std'])"
   ]
  },
  {
   "cell_type": "code",
   "execution_count": 405,
   "metadata": {},
   "outputs": [],
   "source": [
    "def make_polyline_lst(recommend_dict):\n",
    "    '''Take in a dictionary of map objects and return dictionary of polylines{index:polyline} and the indices\n",
    "    for the polylines as a list.'''\n",
    "    polylines = {}\n",
    "    for k, v in recommend_dict.items():\n",
    "        v = ast.literal_eval(v)\n",
    "        if v['summary_polyline'] != None: #make sure the polyline list isn't empty\n",
    "            polylines[k] = v['summary_polyline']\n",
    "    indices = list(polylines.keys())\n",
    "    return polylines, indices"
   ]
  },
  {
   "cell_type": "code",
   "execution_count": null,
   "metadata": {},
   "outputs": [],
   "source": []
  },
  {
   "cell_type": "code",
   "execution_count": 406,
   "metadata": {},
   "outputs": [],
   "source": [
    "polylines,indices = make_polyline_lst(recommend_dict)"
   ]
  },
  {
   "cell_type": "code",
   "execution_count": 407,
   "metadata": {},
   "outputs": [],
   "source": [
    "#get coordinates for the polylines in the list\n",
    "map_coordinates = []\n",
    "for line in list(polylines.values()):\n",
    "    coordinates = polyline.decode(line)\n",
    "    map_coordinates.append(coordinates)"
   ]
  },
  {
   "cell_type": "code",
   "execution_count": 85,
   "metadata": {},
   "outputs": [],
   "source": []
  },
  {
   "cell_type": "code",
   "execution_count": 27,
   "metadata": {},
   "outputs": [],
   "source": [
    "def find_centroids(coordinate_lst):\n",
    "    centroids = []\n",
    "    for l in coordinate_lst:\n",
    "        lats = []\n",
    "        longs = []\n",
    "        for point in l:\n",
    "            lats.append(point[0])\n",
    "            longs.append(point[1])\n",
    "        centroid = (round(np.mean(lats), 3), round(np.mean(longs), 3))\n",
    "        centroids.append(centroid)\n",
    "    return centroids"
   ]
  },
  {
   "cell_type": "code",
   "execution_count": 113,
   "metadata": {},
   "outputs": [],
   "source": [
    "def make_comparison_df(coordinate_lst, df, indices):\n",
    "    centroids = find_centroids(coordinate_lst)\n",
    "    lats = []\n",
    "    longs = []\n",
    "    elevation_lst = []\n",
    "    for c in centroids:\n",
    "        lats.append(c[0])\n",
    "        longs.append(c[1])\n",
    "    for idx in indices: #get the elevation for the runs in the suggestion list.\n",
    "        row = df.loc[idx] \n",
    "        elevation_lst.append(row['total_elevation_gain'])\n",
    "    comparison_df = pd.DataFrame({'lats': lats, 'longs':longs, 'elevation':elevation_lst})\n",
    "    return comparison_df"
   ]
  },
  {
   "cell_type": "code",
   "execution_count": null,
   "metadata": {},
   "outputs": [],
   "source": []
  },
  {
   "cell_type": "code",
   "execution_count": 408,
   "metadata": {},
   "outputs": [],
   "source": [
    "comparison_df = make_comparison_df(map_coordinates, working_df, indices)"
   ]
  },
  {
   "cell_type": "code",
   "execution_count": null,
   "metadata": {},
   "outputs": [],
   "source": []
  },
  {
   "cell_type": "code",
   "execution_count": 355,
   "metadata": {},
   "outputs": [],
   "source": [
    "def cosine_sim_threshold_idx(df):\n",
    "    '''Takes in a dataframe of map lat centroids, map long centroids, and elevation gain and returns a list\n",
    "       of indices that are below a similarity threshold for each map'''\n",
    "    comparison_array = df.values\n",
    "    comparison_array_std = (comparison_array - np.mean(comparison_array, axis=0)) / np.std(comparison_array, axis=0)\n",
    "    #make comparisons with all the datapoints in the comparison array\n",
    "    cosine_sim_arr = cosine_similarity(comparison_array_std)\n",
    "    idx_dict = {}\n",
    "    for idx1, sim in enumerate(cosine_sim_arr): \n",
    "        #goes through cosine similarity arrays for each index \n",
    "        #and returns those that are below a similarity threshold\n",
    "        lst = []\n",
    "        for idx, num in enumerate(sim):\n",
    "            if abs(num) > 0.994:\n",
    "                lst.append(idx)\n",
    "        idx_dict[idx1] = tuple(lst)\n",
    "    groups = [set(x) for x in set(idx_dict.values())]\n",
    "    unique_groups = merge_groups(groups)\n",
    "    return unique_groups, groups\n",
    "    "
   ]
  },
  {
   "cell_type": "code",
   "execution_count": 356,
   "metadata": {},
   "outputs": [],
   "source": [
    "groups_unique, groups = cosine_sim_threshold_idx(comparison_df)"
   ]
  },
  {
   "cell_type": "code",
   "execution_count": 357,
   "metadata": {},
   "outputs": [
    {
     "data": {
      "text/plain": [
       "[{1, 9, 19},\n",
       " {15},\n",
       " {0},\n",
       " {2},\n",
       " {3},\n",
       " {4},\n",
       " {6, 8, 10, 11},\n",
       " {5},\n",
       " {16},\n",
       " {1, 19},\n",
       " {1, 9},\n",
       " {17},\n",
       " {12},\n",
       " {7},\n",
       " {18},\n",
       " {13},\n",
       " {14}]"
      ]
     },
     "execution_count": 357,
     "metadata": {},
     "output_type": "execute_result"
    }
   ],
   "source": [
    "groups"
   ]
  },
  {
   "cell_type": "code",
   "execution_count": 330,
   "metadata": {},
   "outputs": [],
   "source": [
    "check_unions = []\n",
    "for group in groups:\n",
    "    if len(group) > 1:\n",
    "        check_unions.append(group)"
   ]
  },
  {
   "cell_type": "code",
   "execution_count": 332,
   "metadata": {},
   "outputs": [
    {
     "ename": "SyntaxError",
     "evalue": "unexpected EOF while parsing (<ipython-input-332-cbceadb12871>, line 3)",
     "output_type": "error",
     "traceback": [
      "\u001b[0;36m  File \u001b[0;32m\"<ipython-input-332-cbceadb12871>\"\u001b[0;36m, line \u001b[0;32m3\u001b[0m\n\u001b[0;31m    if group1 != group2 and group1.intersection(group2):\u001b[0m\n\u001b[0m                                                        ^\u001b[0m\n\u001b[0;31mSyntaxError\u001b[0m\u001b[0;31m:\u001b[0m unexpected EOF while parsing\n"
     ]
    }
   ],
   "source": [
    "unique_groups = []\n",
    "for group1 in check_unions:\n",
    "    for group2 in check_unions:\n",
    "        if group1 != group2 and group1.intersection(group2):\n",
    "            merged = group1.union(group2)\n",
    "            unique_groups.append(merged)"
   ]
  },
  {
   "cell_type": "code",
   "execution_count": 361,
   "metadata": {},
   "outputs": [],
   "source": [
    "from scipy.cluster import  hierarchy"
   ]
  },
  {
   "cell_type": "code",
   "execution_count": 409,
   "metadata": {},
   "outputs": [],
   "source": [
    "comparison_array = comparison_df.values\n",
    "comparison_array_std = (comparison_array - np.mean(comparison_array, axis=0)) / np.std(comparison_array, axis=0)\n",
    "#make comparisons with all the datapoints in the comparison array\n",
    "cosine_sim_arr = cosine_similarity(comparison_array_std)"
   ]
  },
  {
   "cell_type": "code",
   "execution_count": 410,
   "metadata": {},
   "outputs": [],
   "source": [
    "threshold = 0.1\n",
    "Z = hierarchy.linkage(cosine_sim_arr, 'average', metric=\"cosine\")\n",
    "C = hierarchy.fcluster(Z, threshold, criterion=\"distance\")\n",
    "ids = list(range(20))\n",
    "cluster_groups = defaultdict(list)\n",
    "for idx, grouping in enumerate(C):\n",
    "    cluster_groups[grouping].append(idx)\n",
    "\n"
   ]
  },
  {
   "cell_type": "code",
   "execution_count": 411,
   "metadata": {},
   "outputs": [],
   "source": [
    "indices_to_use = []\n",
    "for value in cluster_groups.values():\n",
    "    indices_to_use.append(value[0])"
   ]
  },
  {
   "cell_type": "code",
   "execution_count": 320,
   "metadata": {},
   "outputs": [],
   "source": [
    "def merge_groups(groups):\n",
    "    #need to fix the case where there are chains of intersections:  A in B and B in C\n",
    "    merged_groups = []\n",
    "    unique_groups = []\n",
    "    for group1 in groups:\n",
    "        for group2 in groups:\n",
    "            if group1 != group2 and group1.intersection(group2):\n",
    "                merged = group1.union(group2)\n",
    "                merged_groups.append(merged)\n",
    "            else:\n",
    "                merged_groups.append(group1)\n",
    "    for g in merged_groups:\n",
    "        if g not in unique_groups:\n",
    "            unique_groups.append(g)\n",
    "    return unique_groups\n",
    "    "
   ]
  },
  {
   "cell_type": "code",
   "execution_count": 354,
   "metadata": {},
   "outputs": [],
   "source": [
    "def get_indices(groups):\n",
    "    sort_groups = sorted(groups, key=len)\n",
    "    sort_groups = sort_groups[::-1]\n",
    "    indices_to_use = []\n",
    "    for group in sort_groups:\n",
    "        group = list(group)\n",
    "        indices_to_use.append(group[0])\n",
    "    return indices_to_use"
   ]
  },
  {
   "cell_type": "code",
   "execution_count": 348,
   "metadata": {},
   "outputs": [],
   "source": [
    "indices_to_use = []\n",
    "for group in sort_groups:\n",
    "    group = list(group)\n",
    "    indices_to_use.append(group[0])"
   ]
  },
  {
   "cell_type": "code",
   "execution_count": 412,
   "metadata": {},
   "outputs": [
    {
     "data": {
      "text/plain": [
       "[0, 2, 3, 4, 5, 15, 18, 19]"
      ]
     },
     "execution_count": 412,
     "metadata": {},
     "output_type": "execute_result"
    }
   ],
   "source": [
    "indices_to_use"
   ]
  },
  {
   "cell_type": "code",
   "execution_count": 384,
   "metadata": {},
   "outputs": [],
   "source": []
  },
  {
   "cell_type": "code",
   "execution_count": 413,
   "metadata": {},
   "outputs": [],
   "source": [
    "unique_coordinates = [map_coordinates[i] for i in indices_to_use]"
   ]
  },
  {
   "cell_type": "code",
   "execution_count": 414,
   "metadata": {},
   "outputs": [],
   "source": [
    "lat, long = map_coordinates[0][0]\n",
    "m = folium.Map(location=[lat, long], zoom_start=12.2)"
   ]
  },
  {
   "cell_type": "code",
   "execution_count": 415,
   "metadata": {},
   "outputs": [],
   "source": [
    "for idx, route in enumerate(unique_coordinates[0:5]):\n",
    "    colors = ['blue','green','red','orange','purple']\n",
    "    folium.PolyLine(\n",
    "            route,\n",
    "            weight=2,\n",
    "            color=colors[idx]\n",
    "        ).add_to(m)"
   ]
  },
  {
   "cell_type": "code",
   "execution_count": 416,
   "metadata": {},
   "outputs": [
    {
     "data": {
      "text/html": [
       "<div style=\"width:100%;\"><div style=\"position:relative;width:100%;height:0;padding-bottom:60%;\"><iframe src=\"data:text/html;charset=utf-8;base64,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\" style=\"position:absolute;width:100%;height:100%;left:0;top:0;border:none !important;\" allowfullscreen webkitallowfullscreen mozallowfullscreen></iframe></div></div>"
      ],
      "text/plain": [
       "<folium.folium.Map at 0x1a1974fc18>"
      ]
     },
     "execution_count": 416,
     "metadata": {},
     "output_type": "execute_result"
    }
   ],
   "source": [
    "m"
   ]
  },
  {
   "cell_type": "code",
   "execution_count": null,
   "metadata": {},
   "outputs": [],
   "source": []
  }
 ],
 "metadata": {
  "kernelspec": {
   "display_name": "Python 3",
   "language": "python",
   "name": "python3"
  },
  "language_info": {
   "codemirror_mode": {
    "name": "ipython",
    "version": 3
   },
   "file_extension": ".py",
   "mimetype": "text/x-python",
   "name": "python",
   "nbconvert_exporter": "python",
   "pygments_lexer": "ipython3",
   "version": "3.6.6"
  }
 },
 "nbformat": 4,
 "nbformat_minor": 2
}
